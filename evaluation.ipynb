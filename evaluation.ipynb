{
 "cells": [
  {
   "cell_type": "code",
   "execution_count": 1,
   "metadata": {},
   "outputs": [],
   "source": [
    "from os import path \n",
    "\n",
    "from measures import reasoning_recall,reasoning_precision\n",
    "\n",
    "LOG_FOLDER = path.join(\".\",\"logs\")\n",
    "LOG_ONE = path.join(LOG_FOLDER, \"dac_log_one.xes\")\n",
    "LOG_TWO = path.join(LOG_FOLDER, \"dac_log_two.xes\")\n",
    "LOG_THREE_A = path.join(LOG_FOLDER, \"dac_log_three_alpha.xes\")\n",
    "LOG_THREE_B = path.join(LOG_FOLDER, \"dac_log_three_beta.xes\")\n",
    "\n",
    "MODEL_FOLDER = path.join(\".\",\"models\")\n",
    "BASE_DPN = path.join(MODEL_FOLDER, \"base_model.pnml\")\n",
    "BASE_DPN_UNRELATED = path.join(MODEL_FOLDER, \"base_model_with_unrelated_guard.pnml\")\n",
    "SUBSET_DPN = path.join(MODEL_FOLDER, \"base_model_subset_choice.pnml\")\n",
    "BASE_DPN_UNOBS = path.join(MODEL_FOLDER, \"base_model_plus_unobserved_choice.pnml\")\n",
    "SUBSET_DPN_RULES = path.join(MODEL_FOLDER, \"base_model_subset_choice_but_rules.pnml\")\n",
    "BASE_DPN_UNSEEN_A = path.join(MODEL_FOLDER, \"base_model_unseen_vars_alpha.pnml\")\n",
    "BASE_DPN_UNSEEN_B = path.join(MODEL_FOLDER, \"base_model_unseen_vars_beta.pnml\")\n",
    "DPN_WITHOUT_CHOICE = path.join(MODEL_FOLDER, \"base_model_without_choice.pnml\")\n",
    "\n",
    "BASE_DPN_ONE_RULE = path.join(MODEL_FOLDER, \"base_model_with_one_rule.pnml\")\n",
    "BASE_DPN_ONE_RULE_ONE_NEG = path.join(MODEL_FOLDER, \"base_model_with_one_rule_one_negation.pnml\")\n",
    "\n",
    "BASE_DPN_TWO_RULES = path.join(MODEL_FOLDER, \"base_model_with_two_rules.pnml\")\n",
    "BASE_DPN_TWO_RULES_UNOBS = path.join(MODEL_FOLDER, \"base_model_with_two_rules_plus_unobserved_choice.pnml\")\n",
    "BASE_DPN_TWO_RULES_UNOBS_NO_LANG = path.join(MODEL_FOLDER, \"base_model_with_two_rules_plus_unobserved_choice_no_lang.pnml\")\n",
    "BASE_DPN_TWO_RULES_UNRELATED = path.join(MODEL_FOLDER, \"base_model_with_two_rules_unrelated_guard.pnml\")\n",
    "\n",
    "BASE_DPN_ONE_STR = path.join(MODEL_FOLDER, \"base_model_with_strengthen_one_rule.pnml\")\n",
    "BASE_DPN_TWO_STR = path.join(MODEL_FOLDER, \"base_model_with_strengthen_two_rule.pnml\")\n",
    "BASE_DPN_TWO_STR_BETA = path.join(MODEL_FOLDER, \"base_model_with_strengthen_two_rule_beta.pnml\")\n",
    "BASE_DPN_ONE_WEK = path.join(MODEL_FOLDER, \"base_model_with_weaken_one_rule.pnml\")\n",
    "BASE_DPN_TWO_WEK = path.join(MODEL_FOLDER, \"base_model_with_weaken_two_rule.pnml\")\n",
    "BASE_DPN_ONE_STR_ONE_WEK = path.join(MODEL_FOLDER, \"base_model_with_strengthen_one_rule_one_weaken_rule.pnml\")\n",
    "\n",
    "BASE_DPN_WO_CHOICE = path.join(MODEL_FOLDER, \"base_model_without_choice.pnml\")\n",
    "BASE_DPN_W_HR_LP = path.join(MODEL_FOLDER, \"base_model_with_highest_recall_low_precision.pnml\")\n",
    "BASE_DPN_W_LR_MP = path.join(MODEL_FOLDER, \"base_model_with_low_recall_mid_precision.pnml\")"
   ]
  },
  {
   "cell_type": "markdown",
   "metadata": {},
   "source": [
    "# G3 - Without common data variables between log and model, this pair cannot be measured\n",
    "\n",
    "Using the following log and model as a counter example, if a measure computes a measurement it is in disagreement with this proposition. Proposed measures will conform with this proposition.\n",
    "\n",
    "Log: <b>logs/dac_log_one.xes</b> <br>\n",
    "Model: <b>models/base_model_unseen_vars_alpha.pnml</b> or <b>models/base_model_unseen_vars_beta.pnml</b> <br>"
   ]
  },
  {
   "cell_type": "code",
   "execution_count": 2,
   "metadata": {},
   "outputs": [],
   "source": [
    "log_file = LOG_ONE\n",
    "model_file_a = BASE_DPN_UNSEEN_A\n",
    "model_file_b = BASE_DPN_UNSEEN_B"
   ]
  },
  {
   "cell_type": "code",
   "execution_count": 3,
   "metadata": {},
   "outputs": [
    {
     "name": "stdout",
     "output_type": "stream",
     "text": [
      "------- test one -----------\n"
     ]
    },
    {
     "data": {
      "application/vnd.jupyter.widget-view+json": {
       "model_id": "71c013df6cf242ffba7d7a11be4c4725",
       "version_major": 2,
       "version_minor": 0
      },
      "text/plain": [
       "parsing log, completed traces ::   0%|          | 0/1800 [00:00<?, ?it/s]"
      ]
     },
     "metadata": {},
     "output_type": "display_data"
    },
    {
     "name": "stdout",
     "output_type": "stream",
     "text": [
      "find rng of :: (d10==\"apple\") | this may take some time...\n"
     ]
    },
    {
     "name": "stderr",
     "output_type": "stream",
     "text": [
      "testing: 100%|██████████| 1/1 [00:00<00:00, 167.22it/s]\n"
     ]
    },
    {
     "name": "stdout",
     "output_type": "stream",
     "text": [
      "find rng of :: (d11<10) | this may take some time...\n"
     ]
    },
    {
     "name": "stderr",
     "output_type": "stream",
     "text": [
      "testing: 100%|██████████| 1/1 [00:00<00:00, 1002.94it/s]\n"
     ]
    },
    {
     "name": "stdout",
     "output_type": "stream",
     "text": [
      "domain of data variables for the log :: {'d5', 'd4', 'd6', 'd3', 'd1', 'd2'}\n",
      "domain of data variables for the process model :: {'d10', 'd11'}\n",
      "Proposition could hold :: Unable to measure as no common subset of variables exists.\n",
      "------- test two -----------\n"
     ]
    },
    {
     "data": {
      "application/vnd.jupyter.widget-view+json": {
       "model_id": "ec577afcbde644c487fb1678ab796edd",
       "version_major": 2,
       "version_minor": 0
      },
      "text/plain": [
       "parsing log, completed traces ::   0%|          | 0/1800 [00:00<?, ?it/s]"
      ]
     },
     "metadata": {},
     "output_type": "display_data"
    },
    {
     "name": "stdout",
     "output_type": "stream",
     "text": [
      "find rng of :: (d1>4) | this may take some time...\n"
     ]
    },
    {
     "name": "stderr",
     "output_type": "stream",
     "text": [
      "testing: 100%|██████████| 6/6 [00:00<?, ?it/s]\n"
     ]
    },
    {
     "name": "stdout",
     "output_type": "stream",
     "text": [
      "find rng of :: ((d10==\"apple\")&&(d1>9)) | this may take some time...\n"
     ]
    },
    {
     "name": "stderr",
     "output_type": "stream",
     "text": [
      "testing: 100%|██████████| 6/6 [00:00<00:00, 6013.34it/s]\n"
     ]
    },
    {
     "name": "stdout",
     "output_type": "stream",
     "text": [
      "find rng of :: (d11<10) | this may take some time...\n"
     ]
    },
    {
     "name": "stderr",
     "output_type": "stream",
     "text": [
      "testing: 100%|██████████| 1/1 [00:00<?, ?it/s]\n"
     ]
    },
    {
     "name": "stdout",
     "output_type": "stream",
     "text": [
      "domain of data variables for the log :: {'d5', 'd4', 'd6', 'd3', 'd1', 'd2'}\n",
      "domain of data variables for the process model :: {'d10', 'd11', 'd1'}\n",
      "Found common set of variables :: {'d1'}\n",
      "Choice domain for the model is :: {([n2] -> [n8,n7,n9,]), ([n4] -> [n11,n13,n12,])}\n"
     ]
    },
    {
     "data": {
      "application/vnd.jupyter.widget-view+json": {
       "model_id": "b0b0495abaf7446c810949c94217fa3d",
       "version_major": 2,
       "version_minor": 0
      },
      "text/plain": [
       "aligning log, completed variants ::   0%|          | 0/9 [00:00<?, ?it/s]"
      ]
     },
     "metadata": {},
     "output_type": "display_data"
    },
    {
     "name": "stdout",
     "output_type": "stream",
     "text": [
      "total number of observations :: 3600\n",
      "Computed reasoning-recall :: 0.154\n",
      "Proposition could hold :: 0.154.\n"
     ]
    }
   ],
   "source": [
    "# test recall\n",
    "try:\n",
    "    print(\"------- test one -----------\")\n",
    "    reasoning_recall(log_file,model_file_a)\n",
    "    print(\"Proposition does not hold :: computed measurement possible.\")\n",
    "except Exception as e:\n",
    "    print(f\"Proposition could hold :: {e}\")\n",
    "try:\n",
    "    print(\"------- test two -----------\")\n",
    "    measure = reasoning_recall(log_file,model_file_b)\n",
    "    print(f\"Proposition could hold :: {measure:.3f}.\")\n",
    "except Exception as e:\n",
    "    print(f\"Proposition may not hold :: {e}\")"
   ]
  },
  {
   "cell_type": "code",
   "execution_count": 4,
   "metadata": {},
   "outputs": [
    {
     "name": "stdout",
     "output_type": "stream",
     "text": [
      "------- test one -----------\n"
     ]
    },
    {
     "data": {
      "application/vnd.jupyter.widget-view+json": {
       "model_id": "278fe1388ae943ee89ab1d00ba1efcbf",
       "version_major": 2,
       "version_minor": 0
      },
      "text/plain": [
       "parsing log, completed traces ::   0%|          | 0/1800 [00:00<?, ?it/s]"
      ]
     },
     "metadata": {},
     "output_type": "display_data"
    },
    {
     "name": "stdout",
     "output_type": "stream",
     "text": [
      "find rng of :: (d10==\"apple\") | this may take some time...\n"
     ]
    },
    {
     "name": "stderr",
     "output_type": "stream",
     "text": [
      "testing: 100%|██████████| 1/1 [00:00<?, ?it/s]\n"
     ]
    },
    {
     "name": "stdout",
     "output_type": "stream",
     "text": [
      "find rng of :: (d11<10) | this may take some time...\n"
     ]
    },
    {
     "name": "stderr",
     "output_type": "stream",
     "text": [
      "testing: 100%|██████████| 1/1 [00:00<00:00, 1003.18it/s]\n"
     ]
    },
    {
     "name": "stdout",
     "output_type": "stream",
     "text": [
      "domain of data variables for the log :: {'d5', 'd4', 'd6', 'd3', 'd1', 'd2'}\n",
      "domain of data variables for the process model :: {'d10', 'd11'}\n",
      "Proposition may hold :: Unable to measure as no common subset of variables exists.\n",
      "------- test two -----------\n"
     ]
    },
    {
     "data": {
      "application/vnd.jupyter.widget-view+json": {
       "model_id": "edcf422cac4c4c2791c5d8c394f42bfe",
       "version_major": 2,
       "version_minor": 0
      },
      "text/plain": [
       "parsing log, completed traces ::   0%|          | 0/1800 [00:00<?, ?it/s]"
      ]
     },
     "metadata": {},
     "output_type": "display_data"
    },
    {
     "name": "stdout",
     "output_type": "stream",
     "text": [
      "find rng of :: (d11<10) | this may take some time...\n"
     ]
    },
    {
     "name": "stderr",
     "output_type": "stream",
     "text": [
      "testing: 100%|██████████| 1/1 [00:00<00:00, 1047.27it/s]\n"
     ]
    },
    {
     "name": "stdout",
     "output_type": "stream",
     "text": [
      "find rng of :: (d1>4) | this may take some time...\n"
     ]
    },
    {
     "name": "stderr",
     "output_type": "stream",
     "text": [
      "testing: 100%|██████████| 6/6 [00:00<?, ?it/s]\n"
     ]
    },
    {
     "name": "stdout",
     "output_type": "stream",
     "text": [
      "find rng of :: ((d10==\"apple\")&&(d1>9)) | this may take some time...\n"
     ]
    },
    {
     "name": "stderr",
     "output_type": "stream",
     "text": [
      "testing: 100%|██████████| 6/6 [00:00<?, ?it/s]\n"
     ]
    },
    {
     "name": "stdout",
     "output_type": "stream",
     "text": [
      "domain of data variables for the log :: {'d5', 'd4', 'd6', 'd3', 'd1', 'd2'}\n",
      "domain of data variables for the process model :: {'d10', 'd11', 'd1'}\n"
     ]
    },
    {
     "data": {
      "application/vnd.jupyter.widget-view+json": {
       "model_id": "0a8272006cd54de18f785d7f5f1655fb",
       "version_major": 2,
       "version_minor": 0
      },
      "text/plain": [
       "aligning log, completed variants ::   0%|          | 0/9 [00:00<?, ?it/s]"
      ]
     },
     "metadata": {},
     "output_type": "display_data"
    },
    {
     "name": "stdout",
     "output_type": "stream",
     "text": [
      "total number of observations :: 3600\n",
      "Computed reasoning-precision :: 0.077\n",
      "Proposition could hold :: 0.077\n"
     ]
    }
   ],
   "source": [
    "# test precision\n",
    "try:\n",
    "    print(\"------- test one -----------\")\n",
    "    reasoning_precision(log_file,model_file_a)\n",
    "    print(\"Proposition does not hold :: computed measurement possible.\")\n",
    "except Exception as e:\n",
    "    print(f\"Proposition may hold :: {e}\")\n",
    "try:\n",
    "    print(\"------- test two -----------\")\n",
    "    measure = reasoning_precision(log_file,model_file_b)\n",
    "    print(f\"Proposition could hold :: {measure:.3f}\")\n",
    "except Exception as e:\n",
    "    print(f\"Proposition does not hold :: {e}\")"
   ]
  },
  {
   "cell_type": "markdown",
   "metadata": {},
   "source": [
    "# G4 - A model without choices, does not require decision-making and is an ideal outcome\n",
    "\n",
    "Using the following log and model as a counter example, if a measure computes a measurement which is not 1.0 when give a pair of log and model that do not describe any exclusive constructs then it does not conform with this proposition. Our proposed measures conform with this proposition.\n",
    "\n",
    "log: <b>logs/dac_log_two.xes</b> <br>\n",
    "model: <b>models/base_model_without_choice.pnml</b> <br>"
   ]
  },
  {
   "cell_type": "code",
   "execution_count": 5,
   "metadata": {},
   "outputs": [],
   "source": [
    "log_file = LOG_TWO\n",
    "model_file = DPN_WITHOUT_CHOICE"
   ]
  },
  {
   "cell_type": "code",
   "execution_count": 6,
   "metadata": {},
   "outputs": [
    {
     "name": "stdout",
     "output_type": "stream",
     "text": [
      "------- test one -----------\n"
     ]
    },
    {
     "data": {
      "application/vnd.jupyter.widget-view+json": {
       "model_id": "43ef8f9c9d5e40c8bbfbb185118e2bae",
       "version_major": 2,
       "version_minor": 0
      },
      "text/plain": [
       "parsing log, completed traces ::   0%|          | 0/200 [00:00<?, ?it/s]"
      ]
     },
     "metadata": {},
     "output_type": "display_data"
    },
    {
     "name": "stdout",
     "output_type": "stream",
     "text": [
      "domain of data variables for the log :: {'d6', 'd3', 'd1', 'd4'}\n",
      "domain of data variables for the process model :: set()\n",
      "Found common set of variables :: set()\n",
      "Choice domain for the model is :: set()\n",
      "total number of observations :: 0\n",
      "Computed reasoning-recall :: 1.000\n",
      "Proposition may hold :: 1.000.\n"
     ]
    }
   ],
   "source": [
    "# test recall \n",
    "try:\n",
    "    print(\"------- test one -----------\")\n",
    "    measure = reasoning_recall(log_file,model_file)\n",
    "    if (measure == 1.0):\n",
    "        print(f\"Proposition may hold :: {measure:.3f}.\")\n",
    "    else:\n",
    "        print(f\"Proposition may not hold :: {measure:.3f}.\")\n",
    "except Exception as e:\n",
    "    print(f\"Proposition does not hold :: {e}\")"
   ]
  },
  {
   "cell_type": "code",
   "execution_count": 7,
   "metadata": {},
   "outputs": [
    {
     "name": "stdout",
     "output_type": "stream",
     "text": [
      "------- test two -----------\n"
     ]
    },
    {
     "data": {
      "application/vnd.jupyter.widget-view+json": {
       "model_id": "cd8d9384c49e4b1081b316bc0b2dc120",
       "version_major": 2,
       "version_minor": 0
      },
      "text/plain": [
       "parsing log, completed traces ::   0%|          | 0/200 [00:00<?, ?it/s]"
      ]
     },
     "metadata": {},
     "output_type": "display_data"
    },
    {
     "name": "stdout",
     "output_type": "stream",
     "text": [
      "domain of data variables for the log :: {'d6', 'd3', 'd1', 'd4'}\n",
      "domain of data variables for the process model :: set()\n",
      "total number of observations :: 0\n",
      "Computed reasoning-precision :: 1.000\n",
      "Proposition may hold :: 1.000.\n"
     ]
    }
   ],
   "source": [
    "# test recall \n",
    "try:\n",
    "    print(\"------- test two -----------\")\n",
    "    measure = reasoning_precision(log_file,model_file)\n",
    "    if (measure == 1.0):\n",
    "        print(f\"Proposition may hold :: {measure:.3f}.\")\n",
    "    else:\n",
    "        print(f\"Proposition may not hold :: {measure:.3f}.\")\n",
    "except Exception as e:\n",
    "    print(f\"Proposition does not hold :: {e}\")"
   ]
  },
  {
   "cell_type": "markdown",
   "metadata": {},
   "source": [
    "# G5 - A model with choices but only describes guards that are truths, is the most undesirable outcome\n",
    "\n",
    "Using the following pairs of event log and process model, a measure that conforms to this proposition will return 0.0 for any model that contains a process model with guards as truths.\n",
    "<br>\n",
    "\n",
    "Log: <b>logs/dac_log_one.xes</b><br>\n",
    "Model: <b>models/base_model.pnml</b> or <b> </b> (required truths)<br>"
   ]
  },
  {
   "cell_type": "code",
   "execution_count": 8,
   "metadata": {},
   "outputs": [],
   "source": [
    "log_file = LOG_ONE\n",
    "model_file_a = BASE_DPN\n",
    "model_file_b = None"
   ]
  },
  {
   "cell_type": "code",
   "execution_count": 9,
   "metadata": {},
   "outputs": [
    {
     "name": "stdout",
     "output_type": "stream",
     "text": [
      "------- test one -----------\n"
     ]
    },
    {
     "data": {
      "application/vnd.jupyter.widget-view+json": {
       "model_id": "4732e0d4db7b4dcc9afaedf9868a5bf6",
       "version_major": 2,
       "version_minor": 0
      },
      "text/plain": [
       "parsing log, completed traces ::   0%|          | 0/1800 [00:00<?, ?it/s]"
      ]
     },
     "metadata": {},
     "output_type": "display_data"
    },
    {
     "name": "stdout",
     "output_type": "stream",
     "text": [
      "domain of data variables for the log :: {'d5', 'd4', 'd6', 'd3', 'd1', 'd2'}\n",
      "domain of data variables for the process model :: set()\n",
      "Found common set of variables :: set()\n",
      "Choice domain for the model is :: {([n2] -> [n7,n8,n9,]), ([n4] -> [n12,n11,n13,])}\n"
     ]
    },
    {
     "data": {
      "application/vnd.jupyter.widget-view+json": {
       "model_id": "e105f4f5e28840c1ab35fd2e7ada972c",
       "version_major": 2,
       "version_minor": 0
      },
      "text/plain": [
       "aligning log, completed variants ::   0%|          | 0/9 [00:00<?, ?it/s]"
      ]
     },
     "metadata": {},
     "output_type": "display_data"
    },
    {
     "name": "stdout",
     "output_type": "stream",
     "text": [
      "total number of observations :: 3600\n",
      "Computed reasoning-recall :: 0.000\n",
      "Proposition may hold :: 0.000.\n"
     ]
    }
   ],
   "source": [
    "# test recall \n",
    "try:\n",
    "    print(\"------- test one -----------\")\n",
    "    measure = reasoning_recall(log_file,model_file_a)\n",
    "    if (measure == 0.0):\n",
    "        print(f\"Proposition may hold :: {measure:.3f}.\")\n",
    "    else:\n",
    "        print(f\"Proposition may not hold :: {measure:.3f}.\")\n",
    "except Exception as e:\n",
    "    print(f\"Proposition does not hold :: {e}\")"
   ]
  },
  {
   "cell_type": "code",
   "execution_count": 10,
   "metadata": {},
   "outputs": [
    {
     "name": "stdout",
     "output_type": "stream",
     "text": [
      "------- test one -----------\n"
     ]
    },
    {
     "data": {
      "application/vnd.jupyter.widget-view+json": {
       "model_id": "613bab26e2104f5aa74de30d56041606",
       "version_major": 2,
       "version_minor": 0
      },
      "text/plain": [
       "parsing log, completed traces ::   0%|          | 0/1800 [00:00<?, ?it/s]"
      ]
     },
     "metadata": {},
     "output_type": "display_data"
    },
    {
     "name": "stdout",
     "output_type": "stream",
     "text": [
      "domain of data variables for the log :: {'d5', 'd4', 'd6', 'd3', 'd1', 'd2'}\n",
      "domain of data variables for the process model :: set()\n"
     ]
    },
    {
     "data": {
      "application/vnd.jupyter.widget-view+json": {
       "model_id": "16ff3ce531544879b3cff4f1567ad82b",
       "version_major": 2,
       "version_minor": 0
      },
      "text/plain": [
       "aligning log, completed variants ::   0%|          | 0/9 [00:00<?, ?it/s]"
      ]
     },
     "metadata": {},
     "output_type": "display_data"
    },
    {
     "name": "stdout",
     "output_type": "stream",
     "text": [
      "total number of observations :: 3600\n",
      "Computed reasoning-precision :: 0.000\n",
      "Proposition may hold :: 0.000.\n"
     ]
    }
   ],
   "source": [
    "# test precision \n",
    "try:\n",
    "    print(\"------- test one -----------\")\n",
    "    measure = reasoning_precision(log_file,model_file_a)\n",
    "    if (measure == 0.0):\n",
    "        print(f\"Proposition may hold :: {measure:.3f}.\")\n",
    "    else:\n",
    "        print(f\"Proposition may not hold :: {measure:.3f}.\")\n",
    "except Exception as e:\n",
    "    print(f\"Proposition does not hold :: {e}\")"
   ]
  },
  {
   "cell_type": "markdown",
   "metadata": {},
   "source": [
    "# G6 - The likelihood of an outcome should be considered when measuring\n",
    "\n",
    "For the following groups containing two pairs of event log and process model, a measure that conforms with this proposition will return the same measurement if we propotionally increase or decrease the number of trace instances seen. Strictly, a process model with generalised guard may be able to conform even when event data is resampled in a propotional manner to observed distribution. We consider the former to be acceptable over the latter. \n",
    "<br>\n",
    "\n",
    "Group 1 - Same event mapping (increased)\n",
    "Pair one: <b>dac_log_one.xes</b> and <b>base_model_with_two_rules.pnml</b><br> \n",
    "Pair two: <b>dac_log_three_alpha.xes</b> and <b>base_model_with_two_rules.pnml</b><br>\n",
    "\n",
    "Group 2 - event mapping resampled (increased) \n",
    "Pair one: <b>dac_log_one.xes</b> and <b>base_model_with_two_rules.pnml</b><br> \n",
    "Pair two: <b>dac_log_three_beta.xes</b> and <b>base_model_with_two_rules.pnml</b><br>"
   ]
  },
  {
   "cell_type": "code",
   "execution_count": 11,
   "metadata": {},
   "outputs": [],
   "source": [
    "group_one = [\n",
    "    (LOG_ONE,BASE_DPN_TWO_RULES),\n",
    "    (LOG_THREE_A,BASE_DPN_TWO_RULES)\n",
    "]\n",
    "\n",
    "group_two = [ \n",
    "    (LOG_ONE,BASE_DPN_TWO_RULES),\n",
    "    (LOG_THREE_B,BASE_DPN_TWO_RULES)\n",
    "]"
   ]
  },
  {
   "cell_type": "code",
   "execution_count": 12,
   "metadata": {},
   "outputs": [
    {
     "name": "stdout",
     "output_type": "stream",
     "text": [
      "------- test one -----------\n"
     ]
    },
    {
     "data": {
      "application/vnd.jupyter.widget-view+json": {
       "model_id": "36686c155e1d456a93d85c8a70a49413",
       "version_major": 2,
       "version_minor": 0
      },
      "text/plain": [
       "parsing log, completed traces ::   0%|          | 0/1800 [00:00<?, ?it/s]"
      ]
     },
     "metadata": {},
     "output_type": "display_data"
    },
    {
     "name": "stdout",
     "output_type": "stream",
     "text": [
      "find rng of :: (d3==\"AA\") | this may take some time...\n"
     ]
    },
    {
     "name": "stderr",
     "output_type": "stream",
     "text": [
      "testing: 100%|██████████| 3/3 [00:00<00:00, 3003.08it/s]\n"
     ]
    },
    {
     "name": "stdout",
     "output_type": "stream",
     "text": [
      "find rng of :: (d1>=8) | this may take some time...\n"
     ]
    },
    {
     "name": "stderr",
     "output_type": "stream",
     "text": [
      "testing: 100%|██████████| 6/6 [00:00<00:00, 6017.65it/s]\n"
     ]
    },
    {
     "name": "stdout",
     "output_type": "stream",
     "text": [
      "domain of data variables for the log :: {'d5', 'd4', 'd6', 'd3', 'd1', 'd2'}\n",
      "domain of data variables for the process model :: {'d3', 'd1'}\n",
      "Found common set of variables :: {'d3', 'd1'}\n",
      "Choice domain for the model is :: {([n2] -> [n7,n8,n9,]), ([n4] -> [n13,n12,n11,])}\n"
     ]
    },
    {
     "data": {
      "application/vnd.jupyter.widget-view+json": {
       "model_id": "6b462bc078a24734afe5743cfaa50eaf",
       "version_major": 2,
       "version_minor": 0
      },
      "text/plain": [
       "aligning log, completed variants ::   0%|          | 0/9 [00:00<?, ?it/s]"
      ]
     },
     "metadata": {},
     "output_type": "display_data"
    },
    {
     "name": "stdout",
     "output_type": "stream",
     "text": [
      "total number of observations :: 3600\n",
      "Computed reasoning-recall :: 0.256\n"
     ]
    },
    {
     "data": {
      "application/vnd.jupyter.widget-view+json": {
       "model_id": "1c998985bdca4990b76551be93d9ccc8",
       "version_major": 2,
       "version_minor": 0
      },
      "text/plain": [
       "parsing log, completed traces ::   0%|          | 0/3600 [00:00<?, ?it/s]"
      ]
     },
     "metadata": {},
     "output_type": "display_data"
    },
    {
     "name": "stdout",
     "output_type": "stream",
     "text": [
      "find rng of :: (d3==\"AA\") | this may take some time...\n"
     ]
    },
    {
     "name": "stderr",
     "output_type": "stream",
     "text": [
      "testing: 100%|██████████| 3/3 [00:00<?, ?it/s]\n"
     ]
    },
    {
     "name": "stdout",
     "output_type": "stream",
     "text": [
      "find rng of :: (d1>=8) | this may take some time...\n"
     ]
    },
    {
     "name": "stderr",
     "output_type": "stream",
     "text": [
      "testing: 100%|██████████| 6/6 [00:00<?, ?it/s]\n"
     ]
    },
    {
     "name": "stdout",
     "output_type": "stream",
     "text": [
      "domain of data variables for the log :: {'d5', 'd4', 'd6', 'd3', 'd1', 'd2'}\n",
      "domain of data variables for the process model :: {'d3', 'd1'}\n",
      "Found common set of variables :: {'d3', 'd1'}\n",
      "Choice domain for the model is :: {([n2] -> [n7,n9,n8,]), ([n4] -> [n13,n11,n12,])}\n"
     ]
    },
    {
     "data": {
      "application/vnd.jupyter.widget-view+json": {
       "model_id": "f9afa87591cd414f9eb7168fb08b98cb",
       "version_major": 2,
       "version_minor": 0
      },
      "text/plain": [
       "aligning log, completed variants ::   0%|          | 0/9 [00:00<?, ?it/s]"
      ]
     },
     "metadata": {},
     "output_type": "display_data"
    },
    {
     "name": "stdout",
     "output_type": "stream",
     "text": [
      "total number of observations :: 7200\n",
      "Computed reasoning-recall :: 0.256\n",
      "\n",
      "first pair measured :: 0.256\n",
      "second pair measured :: 0.256\n",
      "Proposition may hold for recall.\n",
      "------- test two -----------\n"
     ]
    },
    {
     "data": {
      "application/vnd.jupyter.widget-view+json": {
       "model_id": "f03da15fd770478b9159f671a0bcb0c9",
       "version_major": 2,
       "version_minor": 0
      },
      "text/plain": [
       "parsing log, completed traces ::   0%|          | 0/1800 [00:00<?, ?it/s]"
      ]
     },
     "metadata": {},
     "output_type": "display_data"
    },
    {
     "name": "stdout",
     "output_type": "stream",
     "text": [
      "find rng of :: (d3==\"AA\") | this may take some time...\n"
     ]
    },
    {
     "name": "stderr",
     "output_type": "stream",
     "text": [
      "testing: 100%|██████████| 3/3 [00:00<?, ?it/s]\n"
     ]
    },
    {
     "name": "stdout",
     "output_type": "stream",
     "text": [
      "find rng of :: (d1>=8) | this may take some time...\n"
     ]
    },
    {
     "name": "stderr",
     "output_type": "stream",
     "text": [
      "testing: 100%|██████████| 6/6 [00:00<?, ?it/s]\n"
     ]
    },
    {
     "name": "stdout",
     "output_type": "stream",
     "text": [
      "domain of data variables for the log :: {'d5', 'd4', 'd6', 'd3', 'd1', 'd2'}\n",
      "domain of data variables for the process model :: {'d3', 'd1'}\n",
      "Found common set of variables :: {'d3', 'd1'}\n",
      "Choice domain for the model is :: {([n2] -> [n7,n8,n9,]), ([n4] -> [n13,n12,n11,])}\n"
     ]
    },
    {
     "data": {
      "application/vnd.jupyter.widget-view+json": {
       "model_id": "6d8b7eb88d1545c896a541d90e1d41f3",
       "version_major": 2,
       "version_minor": 0
      },
      "text/plain": [
       "aligning log, completed variants ::   0%|          | 0/9 [00:00<?, ?it/s]"
      ]
     },
     "metadata": {},
     "output_type": "display_data"
    },
    {
     "name": "stdout",
     "output_type": "stream",
     "text": [
      "total number of observations :: 3600\n",
      "Computed reasoning-recall :: 0.256\n"
     ]
    },
    {
     "data": {
      "application/vnd.jupyter.widget-view+json": {
       "model_id": "f2da129589e848fd95e761ab58e13979",
       "version_major": 2,
       "version_minor": 0
      },
      "text/plain": [
       "parsing log, completed traces ::   0%|          | 0/3600 [00:00<?, ?it/s]"
      ]
     },
     "metadata": {},
     "output_type": "display_data"
    },
    {
     "name": "stdout",
     "output_type": "stream",
     "text": [
      "find rng of :: (d3==\"AA\") | this may take some time...\n"
     ]
    },
    {
     "name": "stderr",
     "output_type": "stream",
     "text": [
      "testing: 100%|██████████| 3/3 [00:00<00:00, 2920.15it/s]\n"
     ]
    },
    {
     "name": "stdout",
     "output_type": "stream",
     "text": [
      "find rng of :: (d1>=8) | this may take some time...\n"
     ]
    },
    {
     "name": "stderr",
     "output_type": "stream",
     "text": [
      "testing: 100%|██████████| 6/6 [00:00<?, ?it/s]\n"
     ]
    },
    {
     "name": "stdout",
     "output_type": "stream",
     "text": [
      "domain of data variables for the log :: {'d5', 'd4', 'd6', 'd3', 'd1', 'd2'}\n",
      "domain of data variables for the process model :: {'d3', 'd1'}\n",
      "Found common set of variables :: {'d3', 'd1'}\n",
      "Choice domain for the model is :: {([n2] -> [n7,n8,n9,]), ([n4] -> [n13,n12,n11,])}\n"
     ]
    },
    {
     "data": {
      "application/vnd.jupyter.widget-view+json": {
       "model_id": "a8c8fe57112241d09e281ab6765e43bf",
       "version_major": 2,
       "version_minor": 0
      },
      "text/plain": [
       "aligning log, completed variants ::   0%|          | 0/9 [00:00<?, ?it/s]"
      ]
     },
     "metadata": {},
     "output_type": "display_data"
    },
    {
     "name": "stdout",
     "output_type": "stream",
     "text": [
      "total number of observations :: 7200\n",
      "Computed reasoning-recall :: 0.256\n",
      "\n",
      "first pair measured :: 0.256\n",
      "second pair measured :: 0.256\n",
      "Proposition may hold for recall.\n"
     ]
    }
   ],
   "source": [
    "# test recall \n",
    "measures = []\n",
    "print(\"------- test one -----------\")\n",
    "for log_file,model_file in group_one:\n",
    "    try:\n",
    "        measures.append(reasoning_recall(log_file,model_file))\n",
    "    except Exception as e:\n",
    "        print(f\"Proposition does not hold as error occured :: {e}\")\n",
    "print()\n",
    "print(f\"first pair measured :: {measures[0]:.3f}\")\n",
    "print(f\"second pair measured :: {measures[1]:.3f}\")\n",
    "if (abs(measures[0] - measures[1]) < 0.001):\n",
    "    print(\"Proposition may hold for recall.\")\n",
    "else:\n",
    "    print(\"Proposition does not hold for recall\")\n",
    "\n",
    "measures = []\n",
    "print(\"------- test two -----------\")\n",
    "for log_file,model_file in group_two:\n",
    "    try:\n",
    "        measures.append(reasoning_recall(log_file,model_file))\n",
    "    except Exception as e:\n",
    "        print(f\"Proposition does not hold as error occured :: {e}\")\n",
    "print()\n",
    "print(f\"first pair measured :: {measures[0]:.3f}\")\n",
    "print(f\"second pair measured :: {measures[1]:.3f}\")\n",
    "if (abs(measures[0] - measures[1]) < 0.001):\n",
    "    print(\"Proposition may hold for recall.\")\n",
    "else:\n",
    "    print(\"Proposition does not hold for recall\")"
   ]
  },
  {
   "cell_type": "code",
   "execution_count": 13,
   "metadata": {},
   "outputs": [
    {
     "name": "stdout",
     "output_type": "stream",
     "text": [
      "------- test one -----------\n"
     ]
    },
    {
     "data": {
      "application/vnd.jupyter.widget-view+json": {
       "model_id": "1ec5fad496c74fe0919a7d8d1a7733dd",
       "version_major": 2,
       "version_minor": 0
      },
      "text/plain": [
       "parsing log, completed traces ::   0%|          | 0/1800 [00:00<?, ?it/s]"
      ]
     },
     "metadata": {},
     "output_type": "display_data"
    },
    {
     "name": "stdout",
     "output_type": "stream",
     "text": [
      "find rng of :: (d1>=8) | this may take some time...\n"
     ]
    },
    {
     "name": "stderr",
     "output_type": "stream",
     "text": [
      "testing: 100%|██████████| 6/6 [00:00<00:00, 2523.40it/s]\n"
     ]
    },
    {
     "name": "stdout",
     "output_type": "stream",
     "text": [
      "find rng of :: (d3==\"AA\") | this may take some time...\n"
     ]
    },
    {
     "name": "stderr",
     "output_type": "stream",
     "text": [
      "testing: 100%|██████████| 3/3 [00:00<?, ?it/s]\n"
     ]
    },
    {
     "name": "stdout",
     "output_type": "stream",
     "text": [
      "domain of data variables for the log :: {'d5', 'd4', 'd6', 'd3', 'd1', 'd2'}\n",
      "domain of data variables for the process model :: {'d3', 'd1'}\n"
     ]
    },
    {
     "data": {
      "application/vnd.jupyter.widget-view+json": {
       "model_id": "441d98beb63142e987f4013204a6d0fd",
       "version_major": 2,
       "version_minor": 0
      },
      "text/plain": [
       "aligning log, completed variants ::   0%|          | 0/9 [00:00<?, ?it/s]"
      ]
     },
     "metadata": {},
     "output_type": "display_data"
    },
    {
     "name": "stdout",
     "output_type": "stream",
     "text": [
      "total number of observations :: 3600\n",
      "Computed reasoning-precision :: 0.011\n"
     ]
    },
    {
     "data": {
      "application/vnd.jupyter.widget-view+json": {
       "model_id": "8da27c6a5fe542ba9a1b87f89c853ee2",
       "version_major": 2,
       "version_minor": 0
      },
      "text/plain": [
       "parsing log, completed traces ::   0%|          | 0/3600 [00:00<?, ?it/s]"
      ]
     },
     "metadata": {},
     "output_type": "display_data"
    },
    {
     "name": "stdout",
     "output_type": "stream",
     "text": [
      "find rng of :: (d1>=8) | this may take some time...\n"
     ]
    },
    {
     "name": "stderr",
     "output_type": "stream",
     "text": [
      "testing: 100%|██████████| 6/6 [00:00<?, ?it/s]\n"
     ]
    },
    {
     "name": "stdout",
     "output_type": "stream",
     "text": [
      "find rng of :: (d3==\"AA\") | this may take some time...\n"
     ]
    },
    {
     "name": "stderr",
     "output_type": "stream",
     "text": [
      "testing: 100%|██████████| 3/3 [00:00<?, ?it/s]\n"
     ]
    },
    {
     "name": "stdout",
     "output_type": "stream",
     "text": [
      "domain of data variables for the log :: {'d5', 'd4', 'd6', 'd3', 'd1', 'd2'}\n",
      "domain of data variables for the process model :: {'d3', 'd1'}\n"
     ]
    },
    {
     "data": {
      "application/vnd.jupyter.widget-view+json": {
       "model_id": "17cff18bff0f48b98446c6c034635aa1",
       "version_major": 2,
       "version_minor": 0
      },
      "text/plain": [
       "aligning log, completed variants ::   0%|          | 0/9 [00:00<?, ?it/s]"
      ]
     },
     "metadata": {},
     "output_type": "display_data"
    },
    {
     "name": "stdout",
     "output_type": "stream",
     "text": [
      "total number of observations :: 7200\n",
      "Computed reasoning-precision :: 0.011\n",
      "\n",
      "first pair measured :: 0.011\n",
      "second pair measured :: 0.011\n",
      "Proposition may hold for precision.\n",
      "------- test two -----------\n"
     ]
    },
    {
     "data": {
      "application/vnd.jupyter.widget-view+json": {
       "model_id": "1d7894586920409aaa9e020a51a10adb",
       "version_major": 2,
       "version_minor": 0
      },
      "text/plain": [
       "parsing log, completed traces ::   0%|          | 0/1800 [00:00<?, ?it/s]"
      ]
     },
     "metadata": {},
     "output_type": "display_data"
    },
    {
     "name": "stdout",
     "output_type": "stream",
     "text": [
      "find rng of :: (d1>=8) | this may take some time...\n"
     ]
    },
    {
     "name": "stderr",
     "output_type": "stream",
     "text": [
      "testing: 100%|██████████| 6/6 [00:00<00:00, 6013.34it/s]\n"
     ]
    },
    {
     "name": "stdout",
     "output_type": "stream",
     "text": [
      "find rng of :: (d3==\"AA\") | this may take some time...\n"
     ]
    },
    {
     "name": "stderr",
     "output_type": "stream",
     "text": [
      "testing: 100%|██████████| 3/3 [00:00<00:00, 3007.39it/s]\n"
     ]
    },
    {
     "name": "stdout",
     "output_type": "stream",
     "text": [
      "domain of data variables for the log :: {'d5', 'd4', 'd6', 'd3', 'd1', 'd2'}\n",
      "domain of data variables for the process model :: {'d3', 'd1'}\n"
     ]
    },
    {
     "data": {
      "application/vnd.jupyter.widget-view+json": {
       "model_id": "c7526588c821430798d2e544e5bbb889",
       "version_major": 2,
       "version_minor": 0
      },
      "text/plain": [
       "aligning log, completed variants ::   0%|          | 0/9 [00:00<?, ?it/s]"
      ]
     },
     "metadata": {},
     "output_type": "display_data"
    },
    {
     "name": "stdout",
     "output_type": "stream",
     "text": [
      "total number of observations :: 3600\n",
      "Computed reasoning-precision :: 0.011\n"
     ]
    },
    {
     "data": {
      "application/vnd.jupyter.widget-view+json": {
       "model_id": "ac6004c954f74287b73cbf7f3e944549",
       "version_major": 2,
       "version_minor": 0
      },
      "text/plain": [
       "parsing log, completed traces ::   0%|          | 0/3600 [00:00<?, ?it/s]"
      ]
     },
     "metadata": {},
     "output_type": "display_data"
    },
    {
     "name": "stdout",
     "output_type": "stream",
     "text": [
      "find rng of :: (d3==\"AA\") | this may take some time...\n"
     ]
    },
    {
     "name": "stderr",
     "output_type": "stream",
     "text": [
      "testing: 100%|██████████| 3/3 [00:00<00:00, 3001.65it/s]\n"
     ]
    },
    {
     "name": "stdout",
     "output_type": "stream",
     "text": [
      "find rng of :: (d1>=8) | this may take some time...\n"
     ]
    },
    {
     "name": "stderr",
     "output_type": "stream",
     "text": [
      "testing: 100%|██████████| 6/6 [00:00<00:00, 5848.44it/s]\n"
     ]
    },
    {
     "name": "stdout",
     "output_type": "stream",
     "text": [
      "domain of data variables for the log :: {'d5', 'd4', 'd6', 'd3', 'd1', 'd2'}\n",
      "domain of data variables for the process model :: {'d3', 'd1'}\n"
     ]
    },
    {
     "data": {
      "application/vnd.jupyter.widget-view+json": {
       "model_id": "c35b1e4145fb4f9b9ea9147c3ae55633",
       "version_major": 2,
       "version_minor": 0
      },
      "text/plain": [
       "aligning log, completed variants ::   0%|          | 0/9 [00:00<?, ?it/s]"
      ]
     },
     "metadata": {},
     "output_type": "display_data"
    },
    {
     "name": "stdout",
     "output_type": "stream",
     "text": [
      "total number of observations :: 7200\n",
      "Computed reasoning-precision :: 0.011\n",
      "\n",
      "first pair measured :: 0.011\n",
      "second pair measured :: 0.011\n",
      "Proposition may hold for precision.\n"
     ]
    }
   ],
   "source": [
    "# test precision \n",
    "measures = []\n",
    "print(\"------- test one -----------\")\n",
    "for log_file,model_file in group_one:\n",
    "    try:\n",
    "        measures.append(reasoning_precision(log_file,model_file))\n",
    "    except Exception as e:\n",
    "        print(f\"Proposition does not hold as error occured :: {e}\")\n",
    "print()\n",
    "print(f\"first pair measured :: {measures[0]:.3f}\")\n",
    "print(f\"second pair measured :: {measures[1]:.3f}\")\n",
    "if (abs(measures[0] - measures[1]) < 0.001):\n",
    "    print(\"Proposition may hold for precision.\")\n",
    "else:\n",
    "    print(\"Proposition does not hold for precision\")\n",
    "\n",
    "measures = []\n",
    "print(\"------- test two -----------\")\n",
    "for log_file,model_file in group_two:\n",
    "    try:\n",
    "        measures.append(reasoning_precision(log_file,model_file))\n",
    "    except Exception as e:\n",
    "        print(f\"Proposition does not hold as error occured :: {e}\")\n",
    "print()\n",
    "print(f\"first pair measured :: {measures[0]:.3f}\")\n",
    "print(f\"second pair measured :: {measures[1]:.3f}\")\n",
    "if (abs(measures[0] - measures[1]) < 0.001):\n",
    "    print(\"Proposition may hold for precision.\")\n",
    "else:\n",
    "    print(\"Proposition does not hold for precision\")"
   ]
  },
  {
   "cell_type": "markdown",
   "metadata": {},
   "source": [
    "# G7 - If the model does not describe observed choices in the log, then measurements will be suboptimal.\n",
    "\n",
    "For the following pair of event log and process model, a measure that conforms with this proposition will return less than the maximal result.\n",
    "<br>\n",
    "Pair one (truths)<br>\n",
    "Log: <b>logs/dac_log_one.xes</b><br>\n",
    "Model: <b>models/base_model_subset_choice.pnml</b><br>\n",
    "<br>\n",
    "Pair two (non-truths)<br>\n",
    "Log: <b>logs/dac_log_one.xes</b><br>\n",
    "Model: <b>models/base_model_subset_choice.pnml</b><br>"
   ]
  },
  {
   "cell_type": "code",
   "execution_count": 14,
   "metadata": {},
   "outputs": [],
   "source": [
    "log_file = LOG_ONE\n",
    "model_file_a = SUBSET_DPN\n",
    "model_file_b = SUBSET_DPN_RULES"
   ]
  },
  {
   "cell_type": "code",
   "execution_count": 15,
   "metadata": {},
   "outputs": [
    {
     "name": "stdout",
     "output_type": "stream",
     "text": [
      "------- test one -----------\n"
     ]
    },
    {
     "data": {
      "application/vnd.jupyter.widget-view+json": {
       "model_id": "b9703fe49f724b5a823bceb24182568d",
       "version_major": 2,
       "version_minor": 0
      },
      "text/plain": [
       "parsing log, completed traces ::   0%|          | 0/1800 [00:00<?, ?it/s]"
      ]
     },
     "metadata": {},
     "output_type": "display_data"
    },
    {
     "name": "stdout",
     "output_type": "stream",
     "text": [
      "domain of data variables for the log :: {'d5', 'd4', 'd6', 'd3', 'd1', 'd2'}\n",
      "domain of data variables for the process model :: set()\n",
      "Found common set of variables :: set()\n",
      "Choice domain for the model is :: {([n2] -> [n8,n7,n9,])}\n"
     ]
    },
    {
     "data": {
      "application/vnd.jupyter.widget-view+json": {
       "model_id": "497a72f838de41dba485aeeb7f40eecc",
       "version_major": 2,
       "version_minor": 0
      },
      "text/plain": [
       "aligning log, completed variants ::   0%|          | 0/9 [00:00<?, ?it/s]"
      ]
     },
     "metadata": {},
     "output_type": "display_data"
    },
    {
     "name": "stdout",
     "output_type": "stream",
     "text": [
      "total number of observations :: 1800\n",
      "Computed reasoning-recall :: 0.000\n",
      "Proposition may hold :: 0.000.\n",
      "------- test two -----------\n"
     ]
    },
    {
     "data": {
      "application/vnd.jupyter.widget-view+json": {
       "model_id": "4bb44f436d6c494f951252423e437fa9",
       "version_major": 2,
       "version_minor": 0
      },
      "text/plain": [
       "parsing log, completed traces ::   0%|          | 0/1800 [00:00<?, ?it/s]"
      ]
     },
     "metadata": {},
     "output_type": "display_data"
    },
    {
     "name": "stdout",
     "output_type": "stream",
     "text": [
      "find rng of :: (d1<=5) | this may take some time...\n"
     ]
    },
    {
     "name": "stderr",
     "output_type": "stream",
     "text": [
      "testing: 100%|██████████| 6/6 [00:00<00:00, 5943.75it/s]\n"
     ]
    },
    {
     "name": "stdout",
     "output_type": "stream",
     "text": [
      "find rng of :: ((d1>5)&&(d1<=7)) | this may take some time...\n"
     ]
    },
    {
     "name": "stderr",
     "output_type": "stream",
     "text": [
      "testing: 100%|██████████| 6/6 [00:00<?, ?it/s]\n"
     ]
    },
    {
     "name": "stdout",
     "output_type": "stream",
     "text": [
      "find rng of :: (d1>7) | this may take some time...\n"
     ]
    },
    {
     "name": "stderr",
     "output_type": "stream",
     "text": [
      "testing: 100%|██████████| 6/6 [00:00<?, ?it/s]\n"
     ]
    },
    {
     "name": "stdout",
     "output_type": "stream",
     "text": [
      "domain of data variables for the log :: {'d5', 'd4', 'd6', 'd3', 'd1', 'd2'}\n",
      "domain of data variables for the process model :: {'d1'}\n",
      "Found common set of variables :: {'d1'}\n",
      "Choice domain for the model is :: {([n2] -> [n8,n7,n9,])}\n"
     ]
    },
    {
     "data": {
      "application/vnd.jupyter.widget-view+json": {
       "model_id": "1a338af222904195ae2caee79fc81ae1",
       "version_major": 2,
       "version_minor": 0
      },
      "text/plain": [
       "aligning log, completed variants ::   0%|          | 0/9 [00:00<?, ?it/s]"
      ]
     },
     "metadata": {},
     "output_type": "display_data"
    },
    {
     "name": "stdout",
     "output_type": "stream",
     "text": [
      "total number of observations :: 1800\n",
      "Computed reasoning-recall :: 0.792\n",
      "Proposition may hold :: 0.792.\n"
     ]
    }
   ],
   "source": [
    "# test recall \n",
    "try:\n",
    "    print(\"------- test one -----------\")\n",
    "    measure = reasoning_recall(log_file,model_file_a)\n",
    "    if (measure < 1.0):\n",
    "        print(f\"Proposition may hold :: {measure:.3f}.\")\n",
    "    else:\n",
    "        print(f\"Proposition may not hold :: {measure:.3f}.\")\n",
    "except Exception as e:\n",
    "    print(f\"Proposition does not hold :: {e}\")\n",
    "\n",
    "\n",
    "try:\n",
    "    print(\"------- test two -----------\")\n",
    "    measure = reasoning_recall(log_file,model_file_b)\n",
    "    if (measure < 1.0):\n",
    "        print(f\"Proposition may hold :: {measure:.3f}.\")\n",
    "    else:\n",
    "        print(f\"Proposition may not hold :: {measure:.3f}.\")\n",
    "except Exception as e:\n",
    "    print(f\"Proposition does not hold :: {e}\")"
   ]
  },
  {
   "cell_type": "code",
   "execution_count": 16,
   "metadata": {},
   "outputs": [
    {
     "name": "stdout",
     "output_type": "stream",
     "text": [
      "------- test one -----------\n"
     ]
    },
    {
     "data": {
      "application/vnd.jupyter.widget-view+json": {
       "model_id": "a89d4273ed4f45aaa4dd379c2d0849d4",
       "version_major": 2,
       "version_minor": 0
      },
      "text/plain": [
       "parsing log, completed traces ::   0%|          | 0/1800 [00:00<?, ?it/s]"
      ]
     },
     "metadata": {},
     "output_type": "display_data"
    },
    {
     "name": "stdout",
     "output_type": "stream",
     "text": [
      "domain of data variables for the log :: {'d5', 'd4', 'd6', 'd3', 'd1', 'd2'}\n",
      "domain of data variables for the process model :: set()\n"
     ]
    },
    {
     "data": {
      "application/vnd.jupyter.widget-view+json": {
       "model_id": "a5aa10d2de39418294c4dbabd3898ff7",
       "version_major": 2,
       "version_minor": 0
      },
      "text/plain": [
       "aligning log, completed variants ::   0%|          | 0/9 [00:00<?, ?it/s]"
      ]
     },
     "metadata": {},
     "output_type": "display_data"
    },
    {
     "name": "stdout",
     "output_type": "stream",
     "text": [
      "total number of observations :: 1800\n",
      "Computed reasoning-precision :: 0.000\n",
      "Proposition may hold :: 0.000.\n",
      "------- test two -----------\n"
     ]
    },
    {
     "data": {
      "application/vnd.jupyter.widget-view+json": {
       "model_id": "daf2b88956d6405fb189a1a0d24bbb11",
       "version_major": 2,
       "version_minor": 0
      },
      "text/plain": [
       "parsing log, completed traces ::   0%|          | 0/1800 [00:00<?, ?it/s]"
      ]
     },
     "metadata": {},
     "output_type": "display_data"
    },
    {
     "name": "stdout",
     "output_type": "stream",
     "text": [
      "find rng of :: (d1<=5) | this may take some time...\n"
     ]
    },
    {
     "name": "stderr",
     "output_type": "stream",
     "text": [
      "testing: 100%|██████████| 6/6 [00:00<00:00, 6016.21it/s]\n"
     ]
    },
    {
     "name": "stdout",
     "output_type": "stream",
     "text": [
      "find rng of :: ((d1>5)&&(d1<=7)) | this may take some time...\n"
     ]
    },
    {
     "name": "stderr",
     "output_type": "stream",
     "text": [
      "testing: 100%|██████████| 6/6 [00:00<00:00, 6016.21it/s]\n"
     ]
    },
    {
     "name": "stdout",
     "output_type": "stream",
     "text": [
      "find rng of :: (d1>7) | this may take some time...\n"
     ]
    },
    {
     "name": "stderr",
     "output_type": "stream",
     "text": [
      "testing: 100%|██████████| 6/6 [00:00<00:00, 6016.21it/s]\n"
     ]
    },
    {
     "name": "stdout",
     "output_type": "stream",
     "text": [
      "domain of data variables for the log :: {'d5', 'd4', 'd6', 'd3', 'd1', 'd2'}\n",
      "domain of data variables for the process model :: {'d1'}\n"
     ]
    },
    {
     "data": {
      "application/vnd.jupyter.widget-view+json": {
       "model_id": "434079ed7e14468da3385c4128684ba4",
       "version_major": 2,
       "version_minor": 0
      },
      "text/plain": [
       "aligning log, completed variants ::   0%|          | 0/9 [00:00<?, ?it/s]"
      ]
     },
     "metadata": {},
     "output_type": "display_data"
    },
    {
     "name": "stdout",
     "output_type": "stream",
     "text": [
      "total number of observations :: 1800\n",
      "Computed reasoning-precision :: 0.544\n",
      "Proposition may hold :: 0.544.\n"
     ]
    }
   ],
   "source": [
    "# test recall \n",
    "try:\n",
    "    print(\"------- test one -----------\")\n",
    "    measure = reasoning_precision(log_file,model_file_a)\n",
    "    if (measure < 1.0):\n",
    "        print(f\"Proposition may hold :: {measure:.3f}.\")\n",
    "    else:\n",
    "        print(f\"Proposition may not hold :: {measure:.3f}.\")\n",
    "except Exception as e:\n",
    "    print(f\"Proposition does not hold :: {e}\")\n",
    "\n",
    "\n",
    "try:\n",
    "    print(\"------- test two -----------\")\n",
    "    measure = reasoning_precision(log_file,model_file_b)\n",
    "    if (measure < 1.0):\n",
    "        print(f\"Proposition may hold :: {measure:.3f}.\")\n",
    "    else:\n",
    "        print(f\"Proposition may not hold :: {measure:.3f}.\")\n",
    "except Exception as e:\n",
    "    print(f\"Proposition does not hold :: {e}\")"
   ]
  },
  {
   "cell_type": "markdown",
   "metadata": {},
   "source": [
    "# R8 - Recall measures the portion of guards that are not truths\n",
    "\n",
    "Using the following groups of pairs of event log and process model, a recall measure that conforms with this proposition will not decrease if a truth is strengthen (rng is restricted).\n",
    "<br>\n",
    "<br>\n",
    "Group one:<br>\n",
    "Pair one - base case<br>\n",
    "Log: <b>logs/dac_log_one.xes</b><br>\n",
    "Model: <b>models/base_model.pnml</b><br>\n",
    "Pair two - should be same or higher<br>\n",
    "Log: <b>logs/dac_log_one.xes</b><br>\n",
    "Model: <b>models/base_model_with_one_rule.pnml</b><br>\n",
    "<br>\n",
    "Group two:<br>\n",
    "Pair one - base case<br>\n",
    "Log: <b>logs/dac_log_one.xes</b><br>\n",
    "Model: <b>models/base_model_with_one_rule.pnml</b><br>\n",
    "Pair two - should be same or higher<br>\n",
    "Log: <b>logs/dac_log_one.xes</b><br>\n",
    "Model: <b>models/base_model_with_two_rules.pnml</b><br>\n",
    "<br>\n",
    "Group thee:<br>\n",
    "Pair one - base case<br>\n",
    "Log: <b>logs/dac_log_one.xes</b><br>\n",
    "Model: <b>models/base_model_with_one_rule.pnml</b><br>\n",
    "Pair two - should be same or higher<br>\n",
    "Log: <b>logs/dac_log_one.xes</b><br>\n",
    "Model: <b>models/base_model_with_one_rule_one_negation.pnml</b><br>"
   ]
  },
  {
   "cell_type": "code",
   "execution_count": 17,
   "metadata": {},
   "outputs": [],
   "source": [
    "group_one = [ \n",
    "    (LOG_ONE,BASE_DPN),\n",
    "    (LOG_ONE,BASE_DPN_ONE_RULE)\n",
    "]\n",
    "\n",
    "group_two = [ \n",
    "    (LOG_ONE,BASE_DPN_ONE_RULE),\n",
    "    (LOG_ONE,BASE_DPN_TWO_RULES)\n",
    "]\n",
    "\n",
    "group_three = [ \n",
    "    (LOG_ONE,BASE_DPN_ONE_RULE),\n",
    "    (LOG_ONE,BASE_DPN_ONE_RULE_ONE_NEG)\n",
    "]"
   ]
  },
  {
   "cell_type": "code",
   "execution_count": 18,
   "metadata": {},
   "outputs": [
    {
     "name": "stdout",
     "output_type": "stream",
     "text": [
      "------- test one -----------\n"
     ]
    },
    {
     "data": {
      "application/vnd.jupyter.widget-view+json": {
       "model_id": "8c0fa4f440d446daa0e301f69e62fb59",
       "version_major": 2,
       "version_minor": 0
      },
      "text/plain": [
       "parsing log, completed traces ::   0%|          | 0/1800 [00:00<?, ?it/s]"
      ]
     },
     "metadata": {},
     "output_type": "display_data"
    },
    {
     "name": "stdout",
     "output_type": "stream",
     "text": [
      "domain of data variables for the log :: {'d5', 'd4', 'd6', 'd3', 'd1', 'd2'}\n",
      "domain of data variables for the process model :: set()\n",
      "Found common set of variables :: set()\n",
      "Choice domain for the model is :: {([n2] -> [n7,n8,n9,]), ([n4] -> [n12,n11,n13,])}\n"
     ]
    },
    {
     "data": {
      "application/vnd.jupyter.widget-view+json": {
       "model_id": "a4769fb84d9c49b78087e6767fd53140",
       "version_major": 2,
       "version_minor": 0
      },
      "text/plain": [
       "aligning log, completed variants ::   0%|          | 0/9 [00:00<?, ?it/s]"
      ]
     },
     "metadata": {},
     "output_type": "display_data"
    },
    {
     "name": "stdout",
     "output_type": "stream",
     "text": [
      "total number of observations :: 3600\n",
      "Computed reasoning-recall :: 0.000\n"
     ]
    },
    {
     "data": {
      "application/vnd.jupyter.widget-view+json": {
       "model_id": "1b191079b1eb487caf1084f24a3b87f6",
       "version_major": 2,
       "version_minor": 0
      },
      "text/plain": [
       "parsing log, completed traces ::   0%|          | 0/1800 [00:00<?, ?it/s]"
      ]
     },
     "metadata": {},
     "output_type": "display_data"
    },
    {
     "name": "stdout",
     "output_type": "stream",
     "text": [
      "find rng of :: (d1>=8) | this may take some time...\n"
     ]
    },
    {
     "name": "stderr",
     "output_type": "stream",
     "text": [
      "testing: 100%|██████████| 6/6 [00:00<00:00, 6380.79it/s]\n"
     ]
    },
    {
     "name": "stdout",
     "output_type": "stream",
     "text": [
      "domain of data variables for the log :: {'d5', 'd4', 'd6', 'd3', 'd1', 'd2'}\n",
      "domain of data variables for the process model :: {'d1'}\n",
      "Found common set of variables :: {'d1'}\n",
      "Choice domain for the model is :: {([n4] -> [n11,n12,n13,]), ([n2] -> [n9,n7,n8,])}\n"
     ]
    },
    {
     "data": {
      "application/vnd.jupyter.widget-view+json": {
       "model_id": "86c44a9afd4f49648e45e190b22be39e",
       "version_major": 2,
       "version_minor": 0
      },
      "text/plain": [
       "aligning log, completed variants ::   0%|          | 0/9 [00:00<?, ?it/s]"
      ]
     },
     "metadata": {},
     "output_type": "display_data"
    },
    {
     "name": "stdout",
     "output_type": "stream",
     "text": [
      "total number of observations :: 3600\n",
      "Computed reasoning-recall :: 0.154\n",
      "\n",
      "first pair measured :: 0.000\n",
      "second pair measured :: 0.154\n",
      "Proposition may hold for recall.\n",
      "------- test two -----------\n"
     ]
    },
    {
     "data": {
      "application/vnd.jupyter.widget-view+json": {
       "model_id": "057e7fd4688d426db783dbf5a7d8fded",
       "version_major": 2,
       "version_minor": 0
      },
      "text/plain": [
       "parsing log, completed traces ::   0%|          | 0/1800 [00:00<?, ?it/s]"
      ]
     },
     "metadata": {},
     "output_type": "display_data"
    },
    {
     "name": "stdout",
     "output_type": "stream",
     "text": [
      "find rng of :: (d1>=8) | this may take some time...\n"
     ]
    },
    {
     "name": "stderr",
     "output_type": "stream",
     "text": [
      "testing: 100%|██████████| 6/6 [00:00<00:00, 6026.30it/s]\n"
     ]
    },
    {
     "name": "stdout",
     "output_type": "stream",
     "text": [
      "domain of data variables for the log :: {'d5', 'd4', 'd6', 'd3', 'd1', 'd2'}\n",
      "domain of data variables for the process model :: {'d1'}\n",
      "Found common set of variables :: {'d1'}\n",
      "Choice domain for the model is :: {([n4] -> [n11,n12,n13,]), ([n2] -> [n9,n7,n8,])}\n"
     ]
    },
    {
     "data": {
      "application/vnd.jupyter.widget-view+json": {
       "model_id": "4e513bb279f048b2ba8f531f729fb8d2",
       "version_major": 2,
       "version_minor": 0
      },
      "text/plain": [
       "aligning log, completed variants ::   0%|          | 0/9 [00:00<?, ?it/s]"
      ]
     },
     "metadata": {},
     "output_type": "display_data"
    },
    {
     "name": "stdout",
     "output_type": "stream",
     "text": [
      "total number of observations :: 3600\n",
      "Computed reasoning-recall :: 0.154\n"
     ]
    },
    {
     "data": {
      "application/vnd.jupyter.widget-view+json": {
       "model_id": "8f2a1b068280405b93464de3451855c2",
       "version_major": 2,
       "version_minor": 0
      },
      "text/plain": [
       "parsing log, completed traces ::   0%|          | 0/1800 [00:00<?, ?it/s]"
      ]
     },
     "metadata": {},
     "output_type": "display_data"
    },
    {
     "name": "stdout",
     "output_type": "stream",
     "text": [
      "find rng of :: (d3==\"AA\") | this may take some time...\n"
     ]
    },
    {
     "name": "stderr",
     "output_type": "stream",
     "text": [
      "testing: 100%|██████████| 3/3 [00:00<00:00, 3095.43it/s]\n"
     ]
    },
    {
     "name": "stdout",
     "output_type": "stream",
     "text": [
      "find rng of :: (d1>=8) | this may take some time...\n"
     ]
    },
    {
     "name": "stderr",
     "output_type": "stream",
     "text": [
      "testing: 100%|██████████| 6/6 [00:00<00:00, 6000.43it/s]\n"
     ]
    },
    {
     "name": "stdout",
     "output_type": "stream",
     "text": [
      "domain of data variables for the log :: {'d5', 'd4', 'd6', 'd3', 'd1', 'd2'}\n",
      "domain of data variables for the process model :: {'d3', 'd1'}\n",
      "Found common set of variables :: {'d3', 'd1'}\n",
      "Choice domain for the model is :: {([n2] -> [n7,n8,n9,]), ([n4] -> [n13,n11,n12,])}\n"
     ]
    },
    {
     "data": {
      "application/vnd.jupyter.widget-view+json": {
       "model_id": "08a964d02bdb4319a0595ff3b4d79dbf",
       "version_major": 2,
       "version_minor": 0
      },
      "text/plain": [
       "aligning log, completed variants ::   0%|          | 0/9 [00:00<?, ?it/s]"
      ]
     },
     "metadata": {},
     "output_type": "display_data"
    },
    {
     "name": "stdout",
     "output_type": "stream",
     "text": [
      "total number of observations :: 3600\n",
      "Computed reasoning-recall :: 0.256\n",
      "\n",
      "first pair measured :: 0.154\n",
      "second pair measured :: 0.256\n",
      "Proposition may hold for recall.\n",
      "------- test three -----------\n"
     ]
    },
    {
     "data": {
      "application/vnd.jupyter.widget-view+json": {
       "model_id": "a7bec8e69f65457e9f5ab1c175a3389a",
       "version_major": 2,
       "version_minor": 0
      },
      "text/plain": [
       "parsing log, completed traces ::   0%|          | 0/1800 [00:00<?, ?it/s]"
      ]
     },
     "metadata": {},
     "output_type": "display_data"
    },
    {
     "name": "stdout",
     "output_type": "stream",
     "text": [
      "find rng of :: (d1>=8) | this may take some time...\n"
     ]
    },
    {
     "name": "stderr",
     "output_type": "stream",
     "text": [
      "testing: 100%|██████████| 6/6 [00:00<?, ?it/s]\n"
     ]
    },
    {
     "name": "stdout",
     "output_type": "stream",
     "text": [
      "domain of data variables for the log :: {'d5', 'd4', 'd6', 'd3', 'd1', 'd2'}\n",
      "domain of data variables for the process model :: {'d1'}\n",
      "Found common set of variables :: {'d1'}\n",
      "Choice domain for the model is :: {([n4] -> [n11,n12,n13,]), ([n2] -> [n9,n8,n7,])}\n"
     ]
    },
    {
     "data": {
      "application/vnd.jupyter.widget-view+json": {
       "model_id": "55f1138347e84350b383e23485aa8bab",
       "version_major": 2,
       "version_minor": 0
      },
      "text/plain": [
       "aligning log, completed variants ::   0%|          | 0/9 [00:00<?, ?it/s]"
      ]
     },
     "metadata": {},
     "output_type": "display_data"
    },
    {
     "name": "stdout",
     "output_type": "stream",
     "text": [
      "total number of observations :: 3600\n",
      "Computed reasoning-recall :: 0.154\n"
     ]
    },
    {
     "data": {
      "application/vnd.jupyter.widget-view+json": {
       "model_id": "13ad7746da084962b13349cad7982074",
       "version_major": 2,
       "version_minor": 0
      },
      "text/plain": [
       "parsing log, completed traces ::   0%|          | 0/1800 [00:00<?, ?it/s]"
      ]
     },
     "metadata": {},
     "output_type": "display_data"
    },
    {
     "name": "stdout",
     "output_type": "stream",
     "text": [
      "find rng of :: (d1>=8) | this may take some time...\n"
     ]
    },
    {
     "name": "stderr",
     "output_type": "stream",
     "text": [
      "testing: 100%|██████████| 6/6 [00:00<00:00, 6009.03it/s]\n"
     ]
    },
    {
     "name": "stdout",
     "output_type": "stream",
     "text": [
      "domain of data variables for the log :: {'d5', 'd4', 'd6', 'd3', 'd1', 'd2'}\n",
      "domain of data variables for the process model :: {'d1'}\n",
      "Found common set of variables :: {'d1'}\n",
      "Choice domain for the model is :: {([n2] -> [n8,n9,n7,]), ([n4] -> [n12,n11,n13,])}\n"
     ]
    },
    {
     "data": {
      "application/vnd.jupyter.widget-view+json": {
       "model_id": "72e5ca2ddc9f446297bfcabe91868f21",
       "version_major": 2,
       "version_minor": 0
      },
      "text/plain": [
       "aligning log, completed variants ::   0%|          | 0/9 [00:00<?, ?it/s]"
      ]
     },
     "metadata": {},
     "output_type": "display_data"
    },
    {
     "name": "stdout",
     "output_type": "stream",
     "text": [
      "total number of observations :: 3600\n",
      "Computed reasoning-recall :: 0.154\n",
      "\n",
      "first pair measured :: 0.154\n",
      "second pair measured :: 0.154\n",
      "Proposition does not hold for recall\n"
     ]
    }
   ],
   "source": [
    "# test recall \n",
    "measures = []\n",
    "print(\"------- test one -----------\")\n",
    "for log_file,model_file in group_one:\n",
    "    try:\n",
    "        measures.append(reasoning_recall(log_file,model_file))\n",
    "    except Exception as e:\n",
    "        print(f\"Proposition does not hold as error occured :: {e}\")\n",
    "print()\n",
    "print(f\"first pair measured :: {measures[0]:.3f}\")\n",
    "print(f\"second pair measured :: {measures[1]:.3f}\")\n",
    "if (measures[1] >= measures[0]):\n",
    "    print(\"Proposition may hold for recall.\")\n",
    "else:\n",
    "    print(\"Proposition does not hold for recall\")\n",
    "\n",
    "measures = []\n",
    "print(\"------- test two -----------\")\n",
    "for log_file,model_file in group_two:\n",
    "    try:\n",
    "        measures.append(reasoning_recall(log_file,model_file))\n",
    "    except Exception as e:\n",
    "        print(f\"Proposition does not hold as error occured :: {e}\")\n",
    "print()\n",
    "print(f\"first pair measured :: {measures[0]:.3f}\")\n",
    "print(f\"second pair measured :: {measures[1]:.3f}\")\n",
    "if (measures[1] >= measures[0]):\n",
    "    print(\"Proposition may hold for recall.\")\n",
    "else:\n",
    "    print(\"Proposition does not hold for recall\")\n",
    "\n",
    "measures = []\n",
    "print(\"------- test three -----------\")\n",
    "for log_file,model_file in group_three:\n",
    "    try:\n",
    "        measures.append(reasoning_recall(log_file,model_file))\n",
    "    except Exception as e:\n",
    "        print(f\"Proposition does not hold as error occured :: {e}\")\n",
    "print()\n",
    "print(f\"first pair measured :: {measures[0]:.3f}\")\n",
    "print(f\"second pair measured :: {measures[1]:.3f}\")\n",
    "if (measures[1] >= measures[0]):\n",
    "    print(\"Proposition may hold for recall.\")\n",
    "else:\n",
    "    print(\"Proposition does not hold for recall\")"
   ]
  },
  {
   "cell_type": "markdown",
   "metadata": {},
   "source": [
    "# R9 - Recall is not affected by unobserved choices in a process model\n",
    "\n",
    "Using the following groups consisting of pairs of event logs and process models, a recall measure that conforms to this proposition will not decrease if an unobserved choice is added to a process model.<br>\n",
    "<br>\n",
    "For the proposed measures, this will not hold as alignments will normalise costs based on the worst case (observed or not). However, if the addition of the choice does not change the language of the model then it holds (addition of silent transitions is fine).<br>\n",
    "<br>\n",
    "Group one: <br>\n",
    "Pair one: base case <br>\n",
    "log: <b>dac_log_one.xes</b><br>\n",
    "model: <b>base_model_with_two_rules.pnml</b><br>\n",
    "Pair two: should not be lower recall than base case <br>\n",
    "log: <b>dac_log_one_xes</b><br>\n",
    "model: <b>base_model_with_two_rules_plus_unobserved_choice.pnml</b><br>\n",
    "<br>\n",
    "Group two: <br>\n",
    "Pair one: base case <br>\n",
    "log: <b>dac_log_one.xes</b><br>\n",
    "model: <b>base_model.pnml</b><br>\n",
    "Pair two: should not be lower recall than base case <br>\n",
    "log: <b>dac_log_one_xes</b><br>\n",
    "model: <b>base_model_plus_unobserved_choice.pnml</b><br>\n",
    "<br>\n",
    "Group three: <br>\n",
    "Pair one: base case <br>\n",
    "log: <b>dac_log_one.xes</b><br>\n",
    "model: <b>base_model_with_two_rules.pnml</b><br>\n",
    "Pair two: should not be lower recall than base case <br>\n",
    "log: <b>dac_log_one_xes</b><br>\n",
    "model: <b>base_model_with_two_rules_plus_unobserved_choice_no_lang.pnml</b><br>\n",
    "<br>"
   ]
  },
  {
   "cell_type": "code",
   "execution_count": 19,
   "metadata": {},
   "outputs": [],
   "source": [
    "group_one = [ \n",
    "    (LOG_ONE, BASE_DPN_TWO_RULES),\n",
    "    (LOG_ONE, BASE_DPN_TWO_RULES_UNOBS)\n",
    "]\n",
    "\n",
    "group_two = [ \n",
    "    (LOG_ONE,BASE_DPN),\n",
    "    (LOG_ONE,BASE_DPN_UNOBS)\n",
    "]\n",
    "\n",
    "group_three = [ \n",
    "    (LOG_ONE,BASE_DPN_TWO_RULES),\n",
    "    (LOG_ONE,BASE_DPN_TWO_RULES_UNOBS_NO_LANG)\n",
    "]"
   ]
  },
  {
   "cell_type": "code",
   "execution_count": 20,
   "metadata": {},
   "outputs": [
    {
     "name": "stdout",
     "output_type": "stream",
     "text": [
      "------- test one -----------\n"
     ]
    },
    {
     "data": {
      "application/vnd.jupyter.widget-view+json": {
       "model_id": "b89d505e378243ee97872d4149f088e7",
       "version_major": 2,
       "version_minor": 0
      },
      "text/plain": [
       "parsing log, completed traces ::   0%|          | 0/1800 [00:00<?, ?it/s]"
      ]
     },
     "metadata": {},
     "output_type": "display_data"
    },
    {
     "name": "stdout",
     "output_type": "stream",
     "text": [
      "find rng of :: (d1>=8) | this may take some time...\n"
     ]
    },
    {
     "name": "stderr",
     "output_type": "stream",
     "text": [
      "testing: 100%|██████████| 6/6 [00:00<?, ?it/s]\n"
     ]
    },
    {
     "name": "stdout",
     "output_type": "stream",
     "text": [
      "find rng of :: (d3==\"AA\") | this may take some time...\n"
     ]
    },
    {
     "name": "stderr",
     "output_type": "stream",
     "text": [
      "testing: 100%|██████████| 3/3 [00:00<00:00, 2870.84it/s]\n"
     ]
    },
    {
     "name": "stdout",
     "output_type": "stream",
     "text": [
      "domain of data variables for the log :: {'d5', 'd4', 'd6', 'd3', 'd1', 'd2'}\n",
      "domain of data variables for the process model :: {'d3', 'd1'}\n",
      "Found common set of variables :: {'d3', 'd1'}\n",
      "Choice domain for the model is :: {([n2] -> [n7,n8,n9,]), ([n4] -> [n13,n11,n12,])}\n"
     ]
    },
    {
     "data": {
      "application/vnd.jupyter.widget-view+json": {
       "model_id": "764726d7ef1a4393b9f3e320168e32fb",
       "version_major": 2,
       "version_minor": 0
      },
      "text/plain": [
       "aligning log, completed variants ::   0%|          | 0/9 [00:00<?, ?it/s]"
      ]
     },
     "metadata": {},
     "output_type": "display_data"
    },
    {
     "name": "stdout",
     "output_type": "stream",
     "text": [
      "total number of observations :: 3600\n",
      "Computed reasoning-recall :: 0.256\n"
     ]
    },
    {
     "data": {
      "application/vnd.jupyter.widget-view+json": {
       "model_id": "a2cd4ae5080e41d096c580706fc0cac4",
       "version_major": 2,
       "version_minor": 0
      },
      "text/plain": [
       "parsing log, completed traces ::   0%|          | 0/1800 [00:00<?, ?it/s]"
      ]
     },
     "metadata": {},
     "output_type": "display_data"
    },
    {
     "name": "stdout",
     "output_type": "stream",
     "text": [
      "find rng of :: (d1>=8) | this may take some time...\n"
     ]
    },
    {
     "name": "stderr",
     "output_type": "stream",
     "text": [
      "testing: 100%|██████████| 6/6 [00:00<00:00, 6016.21it/s]\n"
     ]
    },
    {
     "name": "stdout",
     "output_type": "stream",
     "text": [
      "find rng of :: (d3==\"AA\") | this may take some time...\n"
     ]
    },
    {
     "name": "stderr",
     "output_type": "stream",
     "text": [
      "testing: 100%|██████████| 3/3 [00:00<?, ?it/s]\n"
     ]
    },
    {
     "name": "stdout",
     "output_type": "stream",
     "text": [
      "domain of data variables for the log :: {'d5', 'd4', 'd6', 'd3', 'd1', 'd2'}\n",
      "domain of data variables for the process model :: {'d3', 'd1'}\n",
      "Found common set of variables :: {'d3', 'd1'}\n",
      "Choice domain for the model is :: {([n2] -> [n9,n8,n7,]), ([n4] -> [n13,n15,n14,]), ([n3] -> [n11,n10,n12,])}\n"
     ]
    },
    {
     "data": {
      "application/vnd.jupyter.widget-view+json": {
       "model_id": "a0023771bd42499290deb8253de35690",
       "version_major": 2,
       "version_minor": 0
      },
      "text/plain": [
       "aligning log, completed variants ::   0%|          | 0/9 [00:00<?, ?it/s]"
      ]
     },
     "metadata": {},
     "output_type": "display_data"
    },
    {
     "name": "stdout",
     "output_type": "stream",
     "text": [
      "total number of observations :: 5400\n",
      "Computed reasoning-recall :: 0.108\n",
      "\n",
      "first pair measured :: 0.256\n",
      "second pair measured :: 0.108\n",
      "Proposition does not hold for recall\n",
      "------- test two -----------\n"
     ]
    },
    {
     "data": {
      "application/vnd.jupyter.widget-view+json": {
       "model_id": "ab629d63a9df410b89b1a7b24af80f0e",
       "version_major": 2,
       "version_minor": 0
      },
      "text/plain": [
       "parsing log, completed traces ::   0%|          | 0/1800 [00:00<?, ?it/s]"
      ]
     },
     "metadata": {},
     "output_type": "display_data"
    },
    {
     "name": "stdout",
     "output_type": "stream",
     "text": [
      "domain of data variables for the log :: {'d5', 'd4', 'd6', 'd3', 'd1', 'd2'}\n",
      "domain of data variables for the process model :: set()\n",
      "Found common set of variables :: set()\n",
      "Choice domain for the model is :: {([n2] -> [n7,n9,n8,]), ([n4] -> [n12,n13,n11,])}\n"
     ]
    },
    {
     "data": {
      "application/vnd.jupyter.widget-view+json": {
       "model_id": "77909a8564ee45349cfa43d8d1c97ff2",
       "version_major": 2,
       "version_minor": 0
      },
      "text/plain": [
       "aligning log, completed variants ::   0%|          | 0/9 [00:00<?, ?it/s]"
      ]
     },
     "metadata": {},
     "output_type": "display_data"
    },
    {
     "name": "stdout",
     "output_type": "stream",
     "text": [
      "total number of observations :: 3600\n",
      "Computed reasoning-recall :: 0.000\n"
     ]
    },
    {
     "data": {
      "application/vnd.jupyter.widget-view+json": {
       "model_id": "17c7c240a1de4ad198f5581830db687c",
       "version_major": 2,
       "version_minor": 0
      },
      "text/plain": [
       "parsing log, completed traces ::   0%|          | 0/1800 [00:00<?, ?it/s]"
      ]
     },
     "metadata": {},
     "output_type": "display_data"
    },
    {
     "name": "stdout",
     "output_type": "stream",
     "text": [
      "domain of data variables for the log :: {'d5', 'd4', 'd6', 'd3', 'd1', 'd2'}\n",
      "domain of data variables for the process model :: set()\n",
      "Found common set of variables :: set()\n",
      "Choice domain for the model is :: {([n4] -> [n14,n13,n15,]), ([n2] -> [n9,n7,n8,]), ([n3] -> [n11,n10,n12,])}\n"
     ]
    },
    {
     "data": {
      "application/vnd.jupyter.widget-view+json": {
       "model_id": "1036ab0b48f240ff80cec9df1a0824d8",
       "version_major": 2,
       "version_minor": 0
      },
      "text/plain": [
       "aligning log, completed variants ::   0%|          | 0/9 [00:00<?, ?it/s]"
      ]
     },
     "metadata": {},
     "output_type": "display_data"
    },
    {
     "name": "stdout",
     "output_type": "stream",
     "text": [
      "total number of observations :: 5400\n",
      "Computed reasoning-recall :: 0.000\n",
      "\n",
      "first pair measured :: 0.000\n",
      "second pair measured :: 0.000\n",
      "Proposition may hold for recall.\n",
      "------- test three -----------\n"
     ]
    },
    {
     "data": {
      "application/vnd.jupyter.widget-view+json": {
       "model_id": "8bdae6c7df874928a51bbcb44ae84f24",
       "version_major": 2,
       "version_minor": 0
      },
      "text/plain": [
       "parsing log, completed traces ::   0%|          | 0/1800 [00:00<?, ?it/s]"
      ]
     },
     "metadata": {},
     "output_type": "display_data"
    },
    {
     "name": "stdout",
     "output_type": "stream",
     "text": [
      "find rng of :: (d1>=8) | this may take some time...\n"
     ]
    },
    {
     "name": "stderr",
     "output_type": "stream",
     "text": [
      "testing: 100%|██████████| 6/6 [00:00<?, ?it/s]\n"
     ]
    },
    {
     "name": "stdout",
     "output_type": "stream",
     "text": [
      "find rng of :: (d3==\"AA\") | this may take some time...\n"
     ]
    },
    {
     "name": "stderr",
     "output_type": "stream",
     "text": [
      "testing: 100%|██████████| 3/3 [00:00<?, ?it/s]\n"
     ]
    },
    {
     "name": "stdout",
     "output_type": "stream",
     "text": [
      "domain of data variables for the log :: {'d5', 'd4', 'd6', 'd3', 'd1', 'd2'}\n",
      "domain of data variables for the process model :: {'d3', 'd1'}\n",
      "Found common set of variables :: {'d3', 'd1'}\n",
      "Choice domain for the model is :: {([n2] -> [n7,n8,n9,]), ([n4] -> [n13,n11,n12,])}\n"
     ]
    },
    {
     "data": {
      "application/vnd.jupyter.widget-view+json": {
       "model_id": "24be95a48c4a44d6bd75223f5c9376a9",
       "version_major": 2,
       "version_minor": 0
      },
      "text/plain": [
       "aligning log, completed variants ::   0%|          | 0/9 [00:00<?, ?it/s]"
      ]
     },
     "metadata": {},
     "output_type": "display_data"
    },
    {
     "name": "stdout",
     "output_type": "stream",
     "text": [
      "total number of observations :: 3600\n",
      "Computed reasoning-recall :: 0.256\n"
     ]
    },
    {
     "data": {
      "application/vnd.jupyter.widget-view+json": {
       "model_id": "c2aa02c223454e18b53c3ca79013720f",
       "version_major": 2,
       "version_minor": 0
      },
      "text/plain": [
       "parsing log, completed traces ::   0%|          | 0/1800 [00:00<?, ?it/s]"
      ]
     },
     "metadata": {},
     "output_type": "display_data"
    },
    {
     "name": "stdout",
     "output_type": "stream",
     "text": [
      "find rng of :: (d3==\"AA\") | this may take some time...\n"
     ]
    },
    {
     "name": "stderr",
     "output_type": "stream",
     "text": [
      "testing: 100%|██████████| 3/3 [00:00<?, ?it/s]\n"
     ]
    },
    {
     "name": "stdout",
     "output_type": "stream",
     "text": [
      "find rng of :: (d1>=8) | this may take some time...\n"
     ]
    },
    {
     "name": "stderr",
     "output_type": "stream",
     "text": [
      "testing: 100%|██████████| 6/6 [00:00<00:00, 6010.47it/s]\n"
     ]
    },
    {
     "name": "stdout",
     "output_type": "stream",
     "text": [
      "domain of data variables for the log :: {'d5', 'd4', 'd6', 'd3', 'd1', 'd2'}\n",
      "domain of data variables for the process model :: {'d3', 'd1'}\n",
      "Found common set of variables :: {'d3', 'd1'}\n",
      "Choice domain for the model is :: {([n2] -> [n8,n9,n7,]), ([n4] -> [n14,n13,n12,]), ([n3] -> [n10,n11,])}\n"
     ]
    },
    {
     "data": {
      "application/vnd.jupyter.widget-view+json": {
       "model_id": "23d572581f77458eb8baa8c96442839d",
       "version_major": 2,
       "version_minor": 0
      },
      "text/plain": [
       "aligning log, completed variants ::   0%|          | 0/9 [00:00<?, ?it/s]"
      ]
     },
     "metadata": {},
     "output_type": "display_data"
    },
    {
     "name": "stdout",
     "output_type": "stream",
     "text": [
      "total number of observations :: 5400\n",
      "Computed reasoning-recall :: 0.108\n",
      "\n",
      "first pair measured :: 0.256\n",
      "second pair measured :: 0.108\n",
      "Proposition does not hold for recall\n"
     ]
    }
   ],
   "source": [
    "# test recall \n",
    "measures = []\n",
    "print(\"------- test one -----------\")\n",
    "for log_file,model_file in group_one:\n",
    "    try:\n",
    "        measures.append(reasoning_recall(log_file,model_file))\n",
    "    except Exception as e:\n",
    "        print(f\"Proposition does not hold as error occured :: {e}\")\n",
    "print()\n",
    "print(f\"first pair measured :: {measures[0]:.3f}\")\n",
    "print(f\"second pair measured :: {measures[1]:.3f}\")\n",
    "if (measures[1] >= measures[0]):\n",
    "    print(\"Proposition may hold for recall.\")\n",
    "else:\n",
    "    print(\"Proposition does not hold for recall\")\n",
    "\n",
    "measures = []\n",
    "print(\"------- test two -----------\")\n",
    "for log_file,model_file in group_two:\n",
    "    try:\n",
    "        measures.append(reasoning_recall(log_file,model_file))\n",
    "    except Exception as e:\n",
    "        print(f\"Proposition does not hold as error occured :: {e}\")\n",
    "print()\n",
    "print(f\"first pair measured :: {measures[0]:.3f}\")\n",
    "print(f\"second pair measured :: {measures[1]:.3f}\")\n",
    "if (measures[1] >= measures[0]):\n",
    "    print(\"Proposition may hold for recall.\")\n",
    "else:\n",
    "    print(\"Proposition does not hold for recall\")\n",
    "\n",
    "measures = []\n",
    "print(\"------- test three -----------\")\n",
    "for log_file,model_file in group_three:\n",
    "    try:\n",
    "        measures.append(reasoning_recall(log_file,model_file))\n",
    "    except Exception as e:\n",
    "        print(f\"Proposition does not hold as error occured :: {e}\")\n",
    "print()\n",
    "print(f\"first pair measured :: {measures[0]:.3f}\")\n",
    "print(f\"second pair measured :: {measures[1]:.3f}\")\n",
    "if (measures[1] >= measures[0]):\n",
    "    print(\"Proposition may hold for recall.\")\n",
    "else:\n",
    "    print(\"Proposition does not hold for recall\")"
   ]
  },
  {
   "cell_type": "markdown",
   "metadata": {},
   "source": [
    "# R10 - adding a guard unrelated to choice to a process model, does not influence recall\n",
    "\n",
    "Using the following groups containing pairs of event logs and process models, a recall measure that conforms with this proposition returns the same measurement regradless of the addition of a strengthen guard.<br>\n",
    "<br>\n",
    "Depending on the choice of alignment technique or observation, measures may be affected, our proposed measure will not be as it uses a control-flow only alignment technique. <br>\n",
    "<br>\n",
    "Group one: no rules<br>\n",
    "Pair one: base case<br>\n",
    "log: <b>logs/dac_log_one.xes</b><br>\n",
    "model: <b>models/base_model.pnml</b><br>\n",
    "Pair two: same measurement to conform<br>\n",
    "log: <b>logs/dac_log_one.xes</b><br>\n",
    "model: <b>models/base_model_with_unrelated_guard.pnml</b><br>\n",
    "<br>\n",
    "Group two: with rules <br>\n",
    "Pair one: base case<br>\n",
    "log: <b>logs/dac_log_one.xes</b><br>\n",
    "model: <b>models/base_model_with_two_rules.pnml.pnml</b><br>\n",
    "Pair two: same measurement to conform<br>\n",
    "log: <b>logs/dac_log_one.xes</b><br>\n",
    "model: <b>models/base_model_with_two_rules_unrelated_guard.pnml</b><br>\n"
   ]
  },
  {
   "cell_type": "code",
   "execution_count": 21,
   "metadata": {},
   "outputs": [],
   "source": [
    "group_one = [\n",
    "    (LOG_ONE, BASE_DPN),\n",
    "    (LOG_ONE, BASE_DPN_UNRELATED)\n",
    "]\n",
    "\n",
    "group_two = [ \n",
    "    (LOG_ONE, BASE_DPN_TWO_RULES),\n",
    "    (LOG_ONE, BASE_DPN_TWO_RULES_UNRELATED)\n",
    "]"
   ]
  },
  {
   "cell_type": "code",
   "execution_count": 22,
   "metadata": {},
   "outputs": [
    {
     "name": "stdout",
     "output_type": "stream",
     "text": [
      "------- test one -----------\n"
     ]
    },
    {
     "data": {
      "application/vnd.jupyter.widget-view+json": {
       "model_id": "49216db926074844bc7a4076a61dfee0",
       "version_major": 2,
       "version_minor": 0
      },
      "text/plain": [
       "parsing log, completed traces ::   0%|          | 0/1800 [00:00<?, ?it/s]"
      ]
     },
     "metadata": {},
     "output_type": "display_data"
    },
    {
     "name": "stdout",
     "output_type": "stream",
     "text": [
      "domain of data variables for the log :: {'d5', 'd4', 'd6', 'd3', 'd1', 'd2'}\n",
      "domain of data variables for the process model :: set()\n",
      "Found common set of variables :: set()\n",
      "Choice domain for the model is :: {([n2] -> [n7,n9,n8,]), ([n4] -> [n12,n13,n11,])}\n"
     ]
    },
    {
     "data": {
      "application/vnd.jupyter.widget-view+json": {
       "model_id": "5ec13993f65345f2a1afef155211a050",
       "version_major": 2,
       "version_minor": 0
      },
      "text/plain": [
       "aligning log, completed variants ::   0%|          | 0/9 [00:00<?, ?it/s]"
      ]
     },
     "metadata": {},
     "output_type": "display_data"
    },
    {
     "name": "stdout",
     "output_type": "stream",
     "text": [
      "total number of observations :: 3600\n",
      "Computed reasoning-recall :: 0.000\n"
     ]
    },
    {
     "data": {
      "application/vnd.jupyter.widget-view+json": {
       "model_id": "c04bca3802124da887fd905e9e55d542",
       "version_major": 2,
       "version_minor": 0
      },
      "text/plain": [
       "parsing log, completed traces ::   0%|          | 0/1800 [00:00<?, ?it/s]"
      ]
     },
     "metadata": {},
     "output_type": "display_data"
    },
    {
     "name": "stdout",
     "output_type": "stream",
     "text": [
      "find rng of :: (d1>=7) | this may take some time...\n"
     ]
    },
    {
     "name": "stderr",
     "output_type": "stream",
     "text": [
      "testing: 100%|██████████| 6/6 [00:00<00:00, 5814.65it/s]"
     ]
    },
    {
     "name": "stdout",
     "output_type": "stream",
     "text": [
      "domain of data variables for the log :: {'d5', 'd4', 'd6', 'd3', 'd1', 'd2'}\n",
      "domain of data variables for the process model :: set()\n",
      "Found common set of variables :: set()\n",
      "Choice domain for the model is :: {([n4] -> [n11,n12,n13,]), ([n2] -> [n9,n8,n7,])}\n"
     ]
    },
    {
     "name": "stderr",
     "output_type": "stream",
     "text": [
      "\n"
     ]
    },
    {
     "data": {
      "application/vnd.jupyter.widget-view+json": {
       "model_id": "3d104b35c2dd44e995ffcf187f27d04a",
       "version_major": 2,
       "version_minor": 0
      },
      "text/plain": [
       "aligning log, completed variants ::   0%|          | 0/9 [00:00<?, ?it/s]"
      ]
     },
     "metadata": {},
     "output_type": "display_data"
    },
    {
     "name": "stdout",
     "output_type": "stream",
     "text": [
      "total number of observations :: 3600\n",
      "Computed reasoning-recall :: 0.000\n",
      "\n",
      "first pair measured :: 0.000\n",
      "second pair measured :: 0.000\n",
      "Proposition may hold for recall.\n",
      "------- test two -----------\n"
     ]
    },
    {
     "data": {
      "application/vnd.jupyter.widget-view+json": {
       "model_id": "abb4ec096cc741ef88badc95ef7cfd75",
       "version_major": 2,
       "version_minor": 0
      },
      "text/plain": [
       "parsing log, completed traces ::   0%|          | 0/1800 [00:00<?, ?it/s]"
      ]
     },
     "metadata": {},
     "output_type": "display_data"
    },
    {
     "name": "stdout",
     "output_type": "stream",
     "text": [
      "find rng of :: (d1>=8) | this may take some time...\n"
     ]
    },
    {
     "name": "stderr",
     "output_type": "stream",
     "text": [
      "testing: 100%|██████████| 6/6 [00:00<00:00, 6007.60it/s]\n"
     ]
    },
    {
     "name": "stdout",
     "output_type": "stream",
     "text": [
      "find rng of :: (d3==\"AA\") | this may take some time...\n"
     ]
    },
    {
     "name": "stderr",
     "output_type": "stream",
     "text": [
      "testing: 100%|██████████| 3/3 [00:00<00:00, 3008.11it/s]\n"
     ]
    },
    {
     "name": "stdout",
     "output_type": "stream",
     "text": [
      "domain of data variables for the log :: {'d5', 'd4', 'd6', 'd3', 'd1', 'd2'}\n",
      "domain of data variables for the process model :: {'d3', 'd1'}\n",
      "Found common set of variables :: {'d3', 'd1'}\n",
      "Choice domain for the model is :: {([n2] -> [n7,n9,n8,]), ([n4] -> [n13,n11,n12,])}\n"
     ]
    },
    {
     "data": {
      "application/vnd.jupyter.widget-view+json": {
       "model_id": "205d7c2b8fd64bcdafafb2bb21b5732d",
       "version_major": 2,
       "version_minor": 0
      },
      "text/plain": [
       "aligning log, completed variants ::   0%|          | 0/9 [00:00<?, ?it/s]"
      ]
     },
     "metadata": {},
     "output_type": "display_data"
    },
    {
     "name": "stdout",
     "output_type": "stream",
     "text": [
      "total number of observations :: 3600\n",
      "Computed reasoning-recall :: 0.256\n"
     ]
    },
    {
     "data": {
      "application/vnd.jupyter.widget-view+json": {
       "model_id": "4f1a334064e64cdbbd50f4bd2e8495df",
       "version_major": 2,
       "version_minor": 0
      },
      "text/plain": [
       "parsing log, completed traces ::   0%|          | 0/1800 [00:00<?, ?it/s]"
      ]
     },
     "metadata": {},
     "output_type": "display_data"
    },
    {
     "name": "stdout",
     "output_type": "stream",
     "text": [
      "find rng of :: (d3==\"AA\") | this may take some time...\n"
     ]
    },
    {
     "name": "stderr",
     "output_type": "stream",
     "text": [
      "testing: 100%|██████████| 3/3 [00:00<?, ?it/s]\n"
     ]
    },
    {
     "name": "stdout",
     "output_type": "stream",
     "text": [
      "find rng of :: (d1>=8) | this may take some time...\n"
     ]
    },
    {
     "name": "stderr",
     "output_type": "stream",
     "text": [
      "testing: 100%|██████████| 6/6 [00:00<00:00, 6016.21it/s]\n"
     ]
    },
    {
     "name": "stdout",
     "output_type": "stream",
     "text": [
      "find rng of :: (d1>=7) | this may take some time...\n"
     ]
    },
    {
     "name": "stderr",
     "output_type": "stream",
     "text": [
      "testing: 100%|██████████| 6/6 [00:00<00:00, 5966.29it/s]"
     ]
    },
    {
     "name": "stdout",
     "output_type": "stream",
     "text": [
      "domain of data variables for the log :: {'d5', 'd4', 'd6', 'd3', 'd1', 'd2'}\n",
      "domain of data variables for the process model :: {'d3', 'd1'}\n",
      "Found common set of variables :: {'d3', 'd1'}\n",
      "Choice domain for the model is :: {([n2] -> [n9,n7,n8,]), ([n4] -> [n13,n12,n11,])}\n"
     ]
    },
    {
     "name": "stderr",
     "output_type": "stream",
     "text": [
      "\n"
     ]
    },
    {
     "data": {
      "application/vnd.jupyter.widget-view+json": {
       "model_id": "88090b6eeb5949d8a796d3f85b763181",
       "version_major": 2,
       "version_minor": 0
      },
      "text/plain": [
       "aligning log, completed variants ::   0%|          | 0/9 [00:00<?, ?it/s]"
      ]
     },
     "metadata": {},
     "output_type": "display_data"
    },
    {
     "name": "stdout",
     "output_type": "stream",
     "text": [
      "total number of observations :: 3600\n",
      "Computed reasoning-recall :: 0.256\n",
      "\n",
      "first pair measured :: 0.256\n",
      "second pair measured :: 0.256\n",
      "Proposition may hold for recall.\n"
     ]
    }
   ],
   "source": [
    "# test recall \n",
    "measures = []\n",
    "print(\"------- test one -----------\")\n",
    "for log_file,model_file in group_one:\n",
    "    try:\n",
    "        measures.append(reasoning_recall(log_file,model_file))\n",
    "    except Exception as e:\n",
    "        print(f\"Proposition does not hold as error occured :: {e}\")\n",
    "print()\n",
    "print(f\"first pair measured :: {measures[0]:.3f}\")\n",
    "print(f\"second pair measured :: {measures[1]:.3f}\")\n",
    "if (abs(measures[1] - measures[0]) < 0.01):\n",
    "    print(\"Proposition may hold for recall.\")\n",
    "else:\n",
    "    print(\"Proposition does not hold for recall\")\n",
    "\n",
    "measures = []\n",
    "print(\"------- test two -----------\")\n",
    "for log_file,model_file in group_two:\n",
    "    try:\n",
    "        measures.append(reasoning_recall(log_file,model_file))\n",
    "    except Exception as e:\n",
    "        print(f\"Proposition does not hold as error occured :: {e}\")\n",
    "print()\n",
    "print(f\"first pair measured :: {measures[0]:.3f}\")\n",
    "print(f\"second pair measured :: {measures[1]:.3f}\")\n",
    "if (abs(measures[1] - measures[0]) < 0.01):\n",
    "    print(\"Proposition may hold for recall.\")\n",
    "else:\n",
    "    print(\"Proposition does not hold for recall\")"
   ]
  },
  {
   "cell_type": "markdown",
   "metadata": {},
   "source": [
    "# P11 - Precision measures the portion of guard that are strengthen to only support the observed choice\n",
    "\n",
    "Using the following groups containing pairs of event logs and process models, a precision measure that conforms with this proposition will not be higher if we weaken a guard to be a truth.<br>\n",
    "<br>\n",
    "<br>\n",
    "Group one:<br>\n",
    "Pair one - base case<br>\n",
    "Log: <b>logs/dac_log_one.xes</b><br>\n",
    "Model: <b>models/base_model_with_one_rule.pnml</b><br>\n",
    "Pair two - should be same or lower to conform<br>\n",
    "Log: <b>logs/dac_log_one.xes</b><br>\n",
    "Model: <b>models/base_model.pnml</b><br>\n",
    "<br>\n",
    "Group two:<br>\n",
    "Pair one - base case<br>\n",
    "Log: <b>logs/dac_log_one.xes</b><br>\n",
    "Model: <b>models/base_model_with_two_rules.pnml</b><br>\n",
    "Pair two - should be same or lower to conform<br>\n",
    "Log: <b>logs/dac_log_one.xes</b><br>\n",
    "Model: <b>models/base_model_with_one_rule.pnml</b><br>\n",
    "<br>\n",
    "Group thee:<br>\n",
    "Pair one - base case<br>\n",
    "Log: <b>logs/dac_log_one.xes</b><br>\n",
    "Model: <b>models/base_model_with_two_rules.pnml</b><br>\n",
    "Pair two - should be same or lower to conform<br>\n",
    "Log: <b>logs/dac_log_one.xes</b><br>\n",
    "Model: <b>models/base_model.pnml</b><br>"
   ]
  },
  {
   "cell_type": "code",
   "execution_count": 23,
   "metadata": {},
   "outputs": [],
   "source": [
    "group_one = [\n",
    "    (LOG_ONE, BASE_DPN_ONE_RULE),\n",
    "    (LOG_ONE, BASE_DPN)\n",
    "]\n",
    "\n",
    "group_two = [ \n",
    "    (LOG_ONE, BASE_DPN_TWO_RULES),\n",
    "    (LOG_ONE, BASE_DPN_ONE_RULE)\n",
    "]\n",
    "\n",
    "group_three = [ \n",
    "    (LOG_ONE, BASE_DPN_TWO_RULES),\n",
    "    (LOG_ONE, BASE_DPN)\n",
    "]"
   ]
  },
  {
   "cell_type": "code",
   "execution_count": 24,
   "metadata": {},
   "outputs": [
    {
     "name": "stdout",
     "output_type": "stream",
     "text": [
      "------- test one -----------\n"
     ]
    },
    {
     "data": {
      "application/vnd.jupyter.widget-view+json": {
       "model_id": "f19ee13bae684f188e3aed82c5890963",
       "version_major": 2,
       "version_minor": 0
      },
      "text/plain": [
       "parsing log, completed traces ::   0%|          | 0/1800 [00:00<?, ?it/s]"
      ]
     },
     "metadata": {},
     "output_type": "display_data"
    },
    {
     "name": "stdout",
     "output_type": "stream",
     "text": [
      "find rng of :: (d1>=8) | this may take some time...\n"
     ]
    },
    {
     "name": "stderr",
     "output_type": "stream",
     "text": [
      "testing: 100%|██████████| 6/6 [00:00<00:00, 5722.11it/s]\n"
     ]
    },
    {
     "name": "stdout",
     "output_type": "stream",
     "text": [
      "domain of data variables for the log :: {'d5', 'd4', 'd6', 'd3', 'd1', 'd2'}\n",
      "domain of data variables for the process model :: {'d1'}\n"
     ]
    },
    {
     "data": {
      "application/vnd.jupyter.widget-view+json": {
       "model_id": "13df31e72d9949a4a095f8a671427146",
       "version_major": 2,
       "version_minor": 0
      },
      "text/plain": [
       "aligning log, completed variants ::   0%|          | 0/9 [00:00<?, ?it/s]"
      ]
     },
     "metadata": {},
     "output_type": "display_data"
    },
    {
     "name": "stdout",
     "output_type": "stream",
     "text": [
      "total number of observations :: 3600\n",
      "Computed reasoning-precision :: 0.000\n"
     ]
    },
    {
     "data": {
      "application/vnd.jupyter.widget-view+json": {
       "model_id": "4efe751633c74e1d93375d4d0fdf2b0c",
       "version_major": 2,
       "version_minor": 0
      },
      "text/plain": [
       "parsing log, completed traces ::   0%|          | 0/1800 [00:00<?, ?it/s]"
      ]
     },
     "metadata": {},
     "output_type": "display_data"
    },
    {
     "name": "stdout",
     "output_type": "stream",
     "text": [
      "domain of data variables for the log :: {'d5', 'd4', 'd6', 'd3', 'd1', 'd2'}\n",
      "domain of data variables for the process model :: set()\n"
     ]
    },
    {
     "data": {
      "application/vnd.jupyter.widget-view+json": {
       "model_id": "3b047d8b6a084379bf20d5563f3b9f28",
       "version_major": 2,
       "version_minor": 0
      },
      "text/plain": [
       "aligning log, completed variants ::   0%|          | 0/9 [00:00<?, ?it/s]"
      ]
     },
     "metadata": {},
     "output_type": "display_data"
    },
    {
     "name": "stdout",
     "output_type": "stream",
     "text": [
      "total number of observations :: 3600\n",
      "Computed reasoning-precision :: 0.000\n",
      "\n",
      "first pair measured :: 0.000\n",
      "second pair measured :: 0.000\n",
      "Proposition may hold for precision.\n",
      "------- test two -----------\n"
     ]
    },
    {
     "data": {
      "application/vnd.jupyter.widget-view+json": {
       "model_id": "16ef3a62761241d285a1be92b2f7226a",
       "version_major": 2,
       "version_minor": 0
      },
      "text/plain": [
       "parsing log, completed traces ::   0%|          | 0/1800 [00:00<?, ?it/s]"
      ]
     },
     "metadata": {},
     "output_type": "display_data"
    },
    {
     "name": "stdout",
     "output_type": "stream",
     "text": [
      "find rng of :: (d1>=8) | this may take some time...\n"
     ]
    },
    {
     "name": "stderr",
     "output_type": "stream",
     "text": [
      "testing: 100%|██████████| 6/6 [00:00<00:00, 6001.87it/s]\n"
     ]
    },
    {
     "name": "stdout",
     "output_type": "stream",
     "text": [
      "find rng of :: (d3==\"AA\") | this may take some time...\n"
     ]
    },
    {
     "name": "stderr",
     "output_type": "stream",
     "text": [
      "testing: 100%|██████████| 3/3 [00:00<?, ?it/s]\n"
     ]
    },
    {
     "name": "stdout",
     "output_type": "stream",
     "text": [
      "domain of data variables for the log :: {'d5', 'd4', 'd6', 'd3', 'd1', 'd2'}\n",
      "domain of data variables for the process model :: {'d3', 'd1'}\n"
     ]
    },
    {
     "data": {
      "application/vnd.jupyter.widget-view+json": {
       "model_id": "ebc2f87dfa7f4e45845528483e1056a8",
       "version_major": 2,
       "version_minor": 0
      },
      "text/plain": [
       "aligning log, completed variants ::   0%|          | 0/9 [00:00<?, ?it/s]"
      ]
     },
     "metadata": {},
     "output_type": "display_data"
    },
    {
     "name": "stdout",
     "output_type": "stream",
     "text": [
      "total number of observations :: 3600\n",
      "Computed reasoning-precision :: 0.011\n"
     ]
    },
    {
     "data": {
      "application/vnd.jupyter.widget-view+json": {
       "model_id": "457e0ad3df334760be6bf6c868c62ee1",
       "version_major": 2,
       "version_minor": 0
      },
      "text/plain": [
       "parsing log, completed traces ::   0%|          | 0/1800 [00:00<?, ?it/s]"
      ]
     },
     "metadata": {},
     "output_type": "display_data"
    },
    {
     "name": "stdout",
     "output_type": "stream",
     "text": [
      "find rng of :: (d1>=8) | this may take some time...\n"
     ]
    },
    {
     "name": "stderr",
     "output_type": "stream",
     "text": [
      "testing: 100%|██████████| 6/6 [00:00<?, ?it/s]\n"
     ]
    },
    {
     "name": "stdout",
     "output_type": "stream",
     "text": [
      "domain of data variables for the log :: {'d5', 'd4', 'd6', 'd3', 'd1', 'd2'}\n",
      "domain of data variables for the process model :: {'d1'}\n"
     ]
    },
    {
     "data": {
      "application/vnd.jupyter.widget-view+json": {
       "model_id": "aade959ffce348bfb8313b42e3defe08",
       "version_major": 2,
       "version_minor": 0
      },
      "text/plain": [
       "aligning log, completed variants ::   0%|          | 0/9 [00:00<?, ?it/s]"
      ]
     },
     "metadata": {},
     "output_type": "display_data"
    },
    {
     "name": "stdout",
     "output_type": "stream",
     "text": [
      "total number of observations :: 3600\n",
      "Computed reasoning-precision :: 0.000\n",
      "\n",
      "first pair measured :: 0.011\n",
      "second pair measured :: 0.000\n",
      "Proposition may hold for precision.\n",
      "------- test three -----------\n"
     ]
    },
    {
     "data": {
      "application/vnd.jupyter.widget-view+json": {
       "model_id": "5f34731ba0d744478062e47fd01d1989",
       "version_major": 2,
       "version_minor": 0
      },
      "text/plain": [
       "parsing log, completed traces ::   0%|          | 0/1800 [00:00<?, ?it/s]"
      ]
     },
     "metadata": {},
     "output_type": "display_data"
    },
    {
     "name": "stdout",
     "output_type": "stream",
     "text": [
      "find rng of :: (d3==\"AA\") | this may take some time...\n"
     ]
    },
    {
     "name": "stderr",
     "output_type": "stream",
     "text": [
      "testing: 100%|██████████| 3/3 [00:00<?, ?it/s]\n"
     ]
    },
    {
     "name": "stdout",
     "output_type": "stream",
     "text": [
      "find rng of :: (d1>=8) | this may take some time...\n"
     ]
    },
    {
     "name": "stderr",
     "output_type": "stream",
     "text": [
      "testing: 100%|██████████| 6/6 [00:00<00:00, 6032.08it/s]\n"
     ]
    },
    {
     "name": "stdout",
     "output_type": "stream",
     "text": [
      "domain of data variables for the log :: {'d5', 'd4', 'd6', 'd3', 'd1', 'd2'}\n",
      "domain of data variables for the process model :: {'d3', 'd1'}\n"
     ]
    },
    {
     "data": {
      "application/vnd.jupyter.widget-view+json": {
       "model_id": "6c9e20ac9f7145758189f55db496d4b4",
       "version_major": 2,
       "version_minor": 0
      },
      "text/plain": [
       "aligning log, completed variants ::   0%|          | 0/9 [00:00<?, ?it/s]"
      ]
     },
     "metadata": {},
     "output_type": "display_data"
    },
    {
     "name": "stdout",
     "output_type": "stream",
     "text": [
      "total number of observations :: 3600\n",
      "Computed reasoning-precision :: 0.011\n"
     ]
    },
    {
     "data": {
      "application/vnd.jupyter.widget-view+json": {
       "model_id": "ebed6fc6d703480b8d244db21499c71b",
       "version_major": 2,
       "version_minor": 0
      },
      "text/plain": [
       "parsing log, completed traces ::   0%|          | 0/1800 [00:00<?, ?it/s]"
      ]
     },
     "metadata": {},
     "output_type": "display_data"
    },
    {
     "name": "stdout",
     "output_type": "stream",
     "text": [
      "domain of data variables for the log :: {'d5', 'd4', 'd6', 'd3', 'd1', 'd2'}\n",
      "domain of data variables for the process model :: set()\n"
     ]
    },
    {
     "data": {
      "application/vnd.jupyter.widget-view+json": {
       "model_id": "c098fd27489742aebf43613174ac8f75",
       "version_major": 2,
       "version_minor": 0
      },
      "text/plain": [
       "aligning log, completed variants ::   0%|          | 0/9 [00:00<?, ?it/s]"
      ]
     },
     "metadata": {},
     "output_type": "display_data"
    },
    {
     "name": "stdout",
     "output_type": "stream",
     "text": [
      "total number of observations :: 3600\n",
      "Computed reasoning-precision :: 0.000\n",
      "\n",
      "first pair measured :: 0.011\n",
      "second pair measured :: 0.000\n",
      "Proposition may hold for precision.\n"
     ]
    }
   ],
   "source": [
    "# test precision\n",
    "measures = []\n",
    "print(\"------- test one -----------\")\n",
    "for log_file,model_file in group_one:\n",
    "    try:\n",
    "        measures.append(reasoning_precision(log_file,model_file))\n",
    "    except Exception as e:\n",
    "        print(f\"Proposition does not hold as error occured :: {e}\")\n",
    "print()\n",
    "print(f\"first pair measured :: {measures[0]:.3f}\")\n",
    "print(f\"second pair measured :: {measures[1]:.3f}\")\n",
    "if (measures[0] >= measures[1]):\n",
    "    print(\"Proposition may hold for precision.\")\n",
    "else:\n",
    "    print(\"Proposition does not hold for precision\")\n",
    "\n",
    "measures = []\n",
    "print(\"------- test two -----------\")\n",
    "for log_file,model_file in group_two:\n",
    "    try:\n",
    "        measures.append(reasoning_precision(log_file,model_file))\n",
    "    except Exception as e:\n",
    "        print(f\"Proposition does not hold as error occured :: {e}\")\n",
    "print()\n",
    "print(f\"first pair measured :: {measures[0]:.3f}\")\n",
    "print(f\"second pair measured :: {measures[1]:.3f}\")\n",
    "if (measures[0] >= measures[1]):\n",
    "    print(\"Proposition may hold for precision.\")\n",
    "else:\n",
    "    print(\"Proposition does not hold for precision\")\n",
    "\n",
    "measures = []\n",
    "print(\"------- test three -----------\")\n",
    "for log_file,model_file in group_three:\n",
    "    try:\n",
    "        measures.append(reasoning_precision(log_file,model_file))\n",
    "    except Exception as e:\n",
    "        print(f\"Proposition does not hold as error occured :: {e}\")\n",
    "print()\n",
    "print(f\"first pair measured :: {measures[0]:.3f}\")\n",
    "print(f\"second pair measured :: {measures[1]:.3f}\")\n",
    "if (measures[0] >= measures[1]):\n",
    "    print(\"Proposition may hold for precision.\")\n",
    "else:\n",
    "    print(\"Proposition does not hold for precision\")"
   ]
  },
  {
   "cell_type": "markdown",
   "metadata": {},
   "source": [
    "# P12 - strengthening a guard to only support the observed choice, is desirable for precision\n",
    "\n",
    "Using the following groups containing pairs of event logs and process models, a precision measure that conforms with this proposition will be higher with an addition of a strengthen guard.<br>\n",
    "<br>\n",
    "<br>\n",
    "Group one:<br>\n",
    "Pair one - base case<br>\n",
    "Log: <b>logs/dac_log_one.xes</b><br>\n",
    "Model: <b>models/base_model.pnml</b><br>\n",
    "Pair two - should be same or higher to conform<br>\n",
    "Log: <b>logs/dac_log_one.xes</b><br>\n",
    "Model: <b>models/base_model_with_strengthen_one_rule.pnml</b><br>\n",
    "<br>\n",
    "Group two:<br>\n",
    "Pair one - base case<br>\n",
    "Log: <b>logs/dac_log_one.xes</b><br>\n",
    "Model: <b>models/base_model_with_strengthen_one_rule.pnml</b><br>\n",
    "Pair two - should be same or higher to conform<br>\n",
    "Log: <b>logs/dac_log_one.xes</b><br>\n",
    "Model: <b>models/base_model_with_strengthen_two_rule.pnml</b><br>\n",
    "<br>\n",
    "Group three:<br>\n",
    "Pair one - base case<br>\n",
    "Log: <b>logs/dac_log_one.xes</b><br>\n",
    "Model: <b>models/base_model_with_strengthen_one_rule.pnml</b><br>\n",
    "Pair two - should be same or higher to conform<br>\n",
    "Log: <b>logs/dac_log_one.xes</b><br>\n",
    "Model: <b>models/base_model_with_strengthen_two_rule_beta.pnml</b><br>\n",
    "<br>\n",
    "Group thee:<br>\n",
    "Pair one - base case<br>\n",
    "Log: <b>logs/dac_log_one.xes</b><br>\n",
    "Model: <b>models/base_model.pnml</b><br>\n",
    "Pair two - sshould be same or higher to conform<br>\n",
    "Log: <b>logs/dac_log_one.xes</b><br>\n",
    "Model: <b>models/base_model_with_strengthen_two_rule.pnml</b><br>"
   ]
  },
  {
   "cell_type": "code",
   "execution_count": 25,
   "metadata": {},
   "outputs": [],
   "source": [
    "group_one = [ \n",
    "    (LOG_ONE,BASE_DPN),\n",
    "    (LOG_ONE,BASE_DPN_ONE_STR)\n",
    "]\n",
    "\n",
    "group_two = [ \n",
    "    (LOG_ONE,BASE_DPN_ONE_STR),\n",
    "    (LOG_ONE,BASE_DPN_TWO_STR)\n",
    "]\n",
    "\n",
    "group_three = [ \n",
    "    (LOG_ONE,BASE_DPN_ONE_STR),\n",
    "    (LOG_ONE,BASE_DPN_TWO_STR_BETA)\n",
    "]\n",
    "\n",
    "group_four = [ \n",
    "    (LOG_ONE,BASE_DPN),\n",
    "    (LOG_ONE,BASE_DPN_TWO_STR)\n",
    "]"
   ]
  },
  {
   "cell_type": "code",
   "execution_count": 26,
   "metadata": {},
   "outputs": [
    {
     "name": "stdout",
     "output_type": "stream",
     "text": [
      "------- test one -----------\n"
     ]
    },
    {
     "data": {
      "application/vnd.jupyter.widget-view+json": {
       "model_id": "9887041cf7834eaaa35fdd8a15ff4ccd",
       "version_major": 2,
       "version_minor": 0
      },
      "text/plain": [
       "parsing log, completed traces ::   0%|          | 0/1800 [00:00<?, ?it/s]"
      ]
     },
     "metadata": {},
     "output_type": "display_data"
    },
    {
     "name": "stdout",
     "output_type": "stream",
     "text": [
      "domain of data variables for the log :: {'d5', 'd4', 'd6', 'd3', 'd1', 'd2'}\n",
      "domain of data variables for the process model :: set()\n"
     ]
    },
    {
     "data": {
      "application/vnd.jupyter.widget-view+json": {
       "model_id": "5078cc6497d749e68f88ec84f2ef6601",
       "version_major": 2,
       "version_minor": 0
      },
      "text/plain": [
       "aligning log, completed variants ::   0%|          | 0/9 [00:00<?, ?it/s]"
      ]
     },
     "metadata": {},
     "output_type": "display_data"
    },
    {
     "name": "stdout",
     "output_type": "stream",
     "text": [
      "total number of observations :: 3600\n",
      "Computed reasoning-precision :: 0.000\n"
     ]
    },
    {
     "data": {
      "application/vnd.jupyter.widget-view+json": {
       "model_id": "77d859b2c7514883bcfc2c4268eb234f",
       "version_major": 2,
       "version_minor": 0
      },
      "text/plain": [
       "parsing log, completed traces ::   0%|          | 0/1800 [00:00<?, ?it/s]"
      ]
     },
     "metadata": {},
     "output_type": "display_data"
    },
    {
     "name": "stdout",
     "output_type": "stream",
     "text": [
      "find rng of :: (d1<=6) | this may take some time...\n"
     ]
    },
    {
     "name": "stderr",
     "output_type": "stream",
     "text": [
      "testing: 100%|██████████| 6/6 [00:00<00:00, 6011.90it/s]\n"
     ]
    },
    {
     "name": "stdout",
     "output_type": "stream",
     "text": [
      "domain of data variables for the log :: {'d5', 'd4', 'd6', 'd3', 'd1', 'd2'}\n",
      "domain of data variables for the process model :: {'d1'}\n"
     ]
    },
    {
     "data": {
      "application/vnd.jupyter.widget-view+json": {
       "model_id": "cddfcfc1544344c59dbf43daf5c3574e",
       "version_major": 2,
       "version_minor": 0
      },
      "text/plain": [
       "aligning log, completed variants ::   0%|          | 0/9 [00:00<?, ?it/s]"
      ]
     },
     "metadata": {},
     "output_type": "display_data"
    },
    {
     "name": "stdout",
     "output_type": "stream",
     "text": [
      "total number of observations :: 3600\n",
      "Computed reasoning-precision :: 0.051\n",
      "\n",
      "first pair measured :: 0.000\n",
      "second pair measured :: 0.051\n",
      "Proposition may hold for precision.\n",
      "------- test two -----------\n"
     ]
    },
    {
     "data": {
      "application/vnd.jupyter.widget-view+json": {
       "model_id": "b59925ecdc89411987f517a2f746b992",
       "version_major": 2,
       "version_minor": 0
      },
      "text/plain": [
       "parsing log, completed traces ::   0%|          | 0/1800 [00:00<?, ?it/s]"
      ]
     },
     "metadata": {},
     "output_type": "display_data"
    },
    {
     "name": "stdout",
     "output_type": "stream",
     "text": [
      "find rng of :: (d1<=6) | this may take some time...\n"
     ]
    },
    {
     "name": "stderr",
     "output_type": "stream",
     "text": [
      "testing: 100%|██████████| 6/6 [00:00<?, ?it/s]\n"
     ]
    },
    {
     "name": "stdout",
     "output_type": "stream",
     "text": [
      "domain of data variables for the log :: {'d5', 'd4', 'd6', 'd3', 'd1', 'd2'}\n",
      "domain of data variables for the process model :: {'d1'}\n"
     ]
    },
    {
     "data": {
      "application/vnd.jupyter.widget-view+json": {
       "model_id": "3c2146428a8f4b1ca18aaafea7449a1e",
       "version_major": 2,
       "version_minor": 0
      },
      "text/plain": [
       "aligning log, completed variants ::   0%|          | 0/9 [00:00<?, ?it/s]"
      ]
     },
     "metadata": {},
     "output_type": "display_data"
    },
    {
     "name": "stdout",
     "output_type": "stream",
     "text": [
      "total number of observations :: 3600\n",
      "Computed reasoning-precision :: 0.051\n"
     ]
    },
    {
     "data": {
      "application/vnd.jupyter.widget-view+json": {
       "model_id": "e12978723e824a2da4c2795bb4a79edf",
       "version_major": 2,
       "version_minor": 0
      },
      "text/plain": [
       "parsing log, completed traces ::   0%|          | 0/1800 [00:00<?, ?it/s]"
      ]
     },
     "metadata": {},
     "output_type": "display_data"
    },
    {
     "name": "stdout",
     "output_type": "stream",
     "text": [
      "find rng of :: ((d1>6)&&(d1<9)) | this may take some time...\n"
     ]
    },
    {
     "name": "stderr",
     "output_type": "stream",
     "text": [
      "testing: 100%|██████████| 6/6 [00:00<00:00, 6014.78it/s]\n"
     ]
    },
    {
     "name": "stdout",
     "output_type": "stream",
     "text": [
      "find rng of :: (d1<=6) | this may take some time...\n"
     ]
    },
    {
     "name": "stderr",
     "output_type": "stream",
     "text": [
      "testing: 100%|██████████| 6/6 [00:00<00:00, 6016.21it/s]\n"
     ]
    },
    {
     "name": "stdout",
     "output_type": "stream",
     "text": [
      "domain of data variables for the log :: {'d5', 'd4', 'd6', 'd3', 'd1', 'd2'}\n",
      "domain of data variables for the process model :: {'d1'}\n"
     ]
    },
    {
     "data": {
      "application/vnd.jupyter.widget-view+json": {
       "model_id": "ead923c621024deeb5a9fd671d026256",
       "version_major": 2,
       "version_minor": 0
      },
      "text/plain": [
       "aligning log, completed variants ::   0%|          | 0/9 [00:00<?, ?it/s]"
      ]
     },
     "metadata": {},
     "output_type": "display_data"
    },
    {
     "name": "stdout",
     "output_type": "stream",
     "text": [
      "total number of observations :: 3600\n",
      "Computed reasoning-precision :: 0.154\n",
      "\n",
      "first pair measured :: 0.051\n",
      "second pair measured :: 0.154\n",
      "Proposition may hold for precision.\n",
      "------- test three -----------\n"
     ]
    },
    {
     "data": {
      "application/vnd.jupyter.widget-view+json": {
       "model_id": "41268fdd1f524c1d82159118fadd71b6",
       "version_major": 2,
       "version_minor": 0
      },
      "text/plain": [
       "parsing log, completed traces ::   0%|          | 0/1800 [00:00<?, ?it/s]"
      ]
     },
     "metadata": {},
     "output_type": "display_data"
    },
    {
     "name": "stdout",
     "output_type": "stream",
     "text": [
      "find rng of :: (d1<=6) | this may take some time...\n"
     ]
    },
    {
     "name": "stderr",
     "output_type": "stream",
     "text": [
      "testing: 100%|██████████| 6/6 [00:00<?, ?it/s]\n"
     ]
    },
    {
     "name": "stdout",
     "output_type": "stream",
     "text": [
      "domain of data variables for the log :: {'d5', 'd4', 'd6', 'd3', 'd1', 'd2'}\n",
      "domain of data variables for the process model :: {'d1'}\n"
     ]
    },
    {
     "data": {
      "application/vnd.jupyter.widget-view+json": {
       "model_id": "78866cfd5f7c44b5ba271f2a75f74fd1",
       "version_major": 2,
       "version_minor": 0
      },
      "text/plain": [
       "aligning log, completed variants ::   0%|          | 0/9 [00:00<?, ?it/s]"
      ]
     },
     "metadata": {},
     "output_type": "display_data"
    },
    {
     "name": "stdout",
     "output_type": "stream",
     "text": [
      "total number of observations :: 3600\n",
      "Computed reasoning-precision :: 0.051\n"
     ]
    },
    {
     "data": {
      "application/vnd.jupyter.widget-view+json": {
       "model_id": "848e956b4d3d4e0fa562a4493745d4eb",
       "version_major": 2,
       "version_minor": 0
      },
      "text/plain": [
       "parsing log, completed traces ::   0%|          | 0/1800 [00:00<?, ?it/s]"
      ]
     },
     "metadata": {},
     "output_type": "display_data"
    },
    {
     "name": "stdout",
     "output_type": "stream",
     "text": [
      "find rng of :: (d5>=10) | this may take some time...\n"
     ]
    },
    {
     "name": "stderr",
     "output_type": "stream",
     "text": [
      "testing: 100%|██████████| 16/16 [00:00<00:00, 16027.91it/s]\n"
     ]
    },
    {
     "name": "stdout",
     "output_type": "stream",
     "text": [
      "find rng of :: (d1<=6) | this may take some time...\n"
     ]
    },
    {
     "name": "stderr",
     "output_type": "stream",
     "text": [
      "testing: 100%|██████████| 6/6 [00:00<00:00, 6016.21it/s]\n"
     ]
    },
    {
     "name": "stdout",
     "output_type": "stream",
     "text": [
      "domain of data variables for the log :: {'d5', 'd4', 'd6', 'd3', 'd1', 'd2'}\n",
      "domain of data variables for the process model :: {'d1', 'd5'}\n"
     ]
    },
    {
     "data": {
      "application/vnd.jupyter.widget-view+json": {
       "model_id": "160dbd3d0e994c2dac58a25961435eaf",
       "version_major": 2,
       "version_minor": 0
      },
      "text/plain": [
       "aligning log, completed variants ::   0%|          | 0/9 [00:00<?, ?it/s]"
      ]
     },
     "metadata": {},
     "output_type": "display_data"
    },
    {
     "name": "stdout",
     "output_type": "stream",
     "text": [
      "total number of observations :: 3600\n",
      "Computed reasoning-precision :: 0.167\n",
      "\n",
      "first pair measured :: 0.051\n",
      "second pair measured :: 0.167\n",
      "Proposition may hold for precision.\n",
      "------- test four -----------\n"
     ]
    },
    {
     "data": {
      "application/vnd.jupyter.widget-view+json": {
       "model_id": "477fb3120399455da797fc483ab69bfd",
       "version_major": 2,
       "version_minor": 0
      },
      "text/plain": [
       "parsing log, completed traces ::   0%|          | 0/1800 [00:00<?, ?it/s]"
      ]
     },
     "metadata": {},
     "output_type": "display_data"
    },
    {
     "name": "stdout",
     "output_type": "stream",
     "text": [
      "domain of data variables for the log :: {'d5', 'd4', 'd6', 'd3', 'd1', 'd2'}\n",
      "domain of data variables for the process model :: set()\n"
     ]
    },
    {
     "data": {
      "application/vnd.jupyter.widget-view+json": {
       "model_id": "d5a10565d4f8454b8ef9ce06f8b9aede",
       "version_major": 2,
       "version_minor": 0
      },
      "text/plain": [
       "aligning log, completed variants ::   0%|          | 0/9 [00:00<?, ?it/s]"
      ]
     },
     "metadata": {},
     "output_type": "display_data"
    },
    {
     "name": "stdout",
     "output_type": "stream",
     "text": [
      "total number of observations :: 3600\n",
      "Computed reasoning-precision :: 0.000\n"
     ]
    },
    {
     "data": {
      "application/vnd.jupyter.widget-view+json": {
       "model_id": "8bfd677e556748789a0c8319db19be0a",
       "version_major": 2,
       "version_minor": 0
      },
      "text/plain": [
       "parsing log, completed traces ::   0%|          | 0/1800 [00:00<?, ?it/s]"
      ]
     },
     "metadata": {},
     "output_type": "display_data"
    },
    {
     "name": "stdout",
     "output_type": "stream",
     "text": [
      "find rng of :: ((d1>6)&&(d1<9)) | this may take some time...\n"
     ]
    },
    {
     "name": "stderr",
     "output_type": "stream",
     "text": [
      "testing: 100%|██████████| 6/6 [00:00<?, ?it/s]\n"
     ]
    },
    {
     "name": "stdout",
     "output_type": "stream",
     "text": [
      "find rng of :: (d1<=6) | this may take some time...\n"
     ]
    },
    {
     "name": "stderr",
     "output_type": "stream",
     "text": [
      "testing: 100%|██████████| 6/6 [00:00<00:00, 6019.09it/s]\n"
     ]
    },
    {
     "name": "stdout",
     "output_type": "stream",
     "text": [
      "domain of data variables for the log :: {'d5', 'd4', 'd6', 'd3', 'd1', 'd2'}\n",
      "domain of data variables for the process model :: {'d1'}\n"
     ]
    },
    {
     "data": {
      "application/vnd.jupyter.widget-view+json": {
       "model_id": "5066179b6cd94a7abd98ca0464b6dba0",
       "version_major": 2,
       "version_minor": 0
      },
      "text/plain": [
       "aligning log, completed variants ::   0%|          | 0/9 [00:00<?, ?it/s]"
      ]
     },
     "metadata": {},
     "output_type": "display_data"
    },
    {
     "name": "stdout",
     "output_type": "stream",
     "text": [
      "total number of observations :: 3600\n",
      "Computed reasoning-precision :: 0.154\n",
      "\n",
      "first pair measured :: 0.000\n",
      "second pair measured :: 0.154\n",
      "Proposition may hold for precision.\n"
     ]
    }
   ],
   "source": [
    "# test precision\n",
    "measures = []\n",
    "print(\"------- test one -----------\")\n",
    "for log_file,model_file in group_one:\n",
    "    try:\n",
    "        measures.append(reasoning_precision(log_file,model_file))\n",
    "    except Exception as e:\n",
    "        print(f\"Proposition does not hold as error occured :: {e}\")\n",
    "print()\n",
    "print(f\"first pair measured :: {measures[0]:.3f}\")\n",
    "print(f\"second pair measured :: {measures[1]:.3f}\")\n",
    "if (measures[1] >= measures[0]):\n",
    "    print(\"Proposition may hold for precision.\")\n",
    "else:\n",
    "    print(\"Proposition does not hold for precision\")\n",
    "\n",
    "measures = []\n",
    "print(\"------- test two -----------\")\n",
    "for log_file,model_file in group_two:\n",
    "    try:\n",
    "        measures.append(reasoning_precision(log_file,model_file))\n",
    "    except Exception as e:\n",
    "        print(f\"Proposition does not hold as error occured :: {e}\")\n",
    "print()\n",
    "print(f\"first pair measured :: {measures[0]:.3f}\")\n",
    "print(f\"second pair measured :: {measures[1]:.3f}\")\n",
    "if (measures[1] >= measures[0]):\n",
    "    print(\"Proposition may hold for precision.\")\n",
    "else:\n",
    "    print(\"Proposition does not hold for precision\")\n",
    "\n",
    "measures = []\n",
    "print(\"------- test three -----------\")\n",
    "for log_file,model_file in group_three:\n",
    "    try:\n",
    "        measures.append(reasoning_precision(log_file,model_file))\n",
    "    except Exception as e:\n",
    "        print(f\"Proposition does not hold as error occured :: {e}\")\n",
    "print()\n",
    "print(f\"first pair measured :: {measures[0]:.3f}\")\n",
    "print(f\"second pair measured :: {measures[1]:.3f}\")\n",
    "if (measures[1] >= measures[0]):\n",
    "    print(\"Proposition may hold for precision.\")\n",
    "else:\n",
    "    print(\"Proposition does not hold for precision\")\n",
    "\n",
    "measures = []\n",
    "print(\"------- test four -----------\")\n",
    "for log_file,model_file in group_four:\n",
    "    try:\n",
    "        measures.append(reasoning_precision(log_file,model_file))\n",
    "    except Exception as e:\n",
    "        print(f\"Proposition does not hold as error occured :: {e}\")\n",
    "print()\n",
    "print(f\"first pair measured :: {measures[0]:.3f}\")\n",
    "print(f\"second pair measured :: {measures[1]:.3f}\")\n",
    "if (measures[1] >= measures[0]):\n",
    "    print(\"Proposition may hold for precision.\")\n",
    "else:\n",
    "    print(\"Proposition does not hold for precision\")"
   ]
  },
  {
   "cell_type": "markdown",
   "metadata": {},
   "source": [
    "# P13 - Weakening guard to support more than one outcome cannot increase precision.\n",
    "\n",
    "Using the following group containing pairs of event logs and process models, a precision measure that conforms with this proposition will produce a lower measurement if we weaken guards to support many outcomes.<br>\n",
    "<br>\n",
    "Proposed measure will conform as alternative choices are checked for support when measuring each observed choice.<br>\n",
    "<br>\n",
    "Group two:<br>\n",
    "Pair one - base case<br>\n",
    "Log: <b>logs/dac_log_one.xes</b><br>\n",
    "Model: <b>models/base_model_with_strengthen_one_rule.pnml</b><br>\n",
    "Pair two - should be same or lower to conform<br>\n",
    "Log: <b>logs/dac_log_one.xes</b><br>\n",
    "Model: <b>models/base_model_with_weaken_one_rule.pnml</b><br>\n",
    "<br>\n",
    "Group two:<br>\n",
    "Pair one - base case<br>\n",
    "Log: <b>logs/dac_log_one.xes</b><br>\n",
    "Model: <b>models/base_model_with_strengthen_two_rule.pnml</b><br>\n",
    "Pair two - should be same or lower to conform<br>\n",
    "Log: <b>logs/dac_log_one.xes</b><br>\n",
    "Model: <b>models/base_model_with_weaken_two_rule.pnml</b><br>\n",
    "<br>\n",
    "Group three:<br>\n",
    "Pair one - base case<br>\n",
    "Log: <b>logs/dac_log_one.xes</b><br>\n",
    "Model: <b>models/base_model_with_strengthen_two_rule.pnml</b><br>\n",
    "Pair two - should be same or lower to conform<br>\n",
    "Log: <b>logs/dac_log_one.xes</b><br>\n",
    "Model: <b>models/base_model_with_strengthen_one_rule_one_weaken_rule.pnml</b><br>\n"
   ]
  },
  {
   "cell_type": "code",
   "execution_count": 27,
   "metadata": {},
   "outputs": [],
   "source": [
    "group_one = [ \n",
    "    (LOG_ONE, BASE_DPN_ONE_STR),\n",
    "    (LOG_ONE, BASE_DPN_ONE_WEK)\n",
    "]\n",
    "\n",
    "group_two = [ \n",
    "    (LOG_ONE, BASE_DPN_TWO_STR),\n",
    "    (LOG_ONE, BASE_DPN_TWO_WEK)\n",
    "]\n",
    "\n",
    "group_three =  [ \n",
    "    (LOG_ONE, BASE_DPN_TWO_STR),\n",
    "    (LOG_ONE, BASE_DPN_ONE_STR_ONE_WEK)\n",
    "]"
   ]
  },
  {
   "cell_type": "code",
   "execution_count": 28,
   "metadata": {},
   "outputs": [
    {
     "name": "stdout",
     "output_type": "stream",
     "text": [
      "------- test one -----------\n"
     ]
    },
    {
     "data": {
      "application/vnd.jupyter.widget-view+json": {
       "model_id": "e9b17734ddf94afd80d79e4b74c2317e",
       "version_major": 2,
       "version_minor": 0
      },
      "text/plain": [
       "parsing log, completed traces ::   0%|          | 0/1800 [00:00<?, ?it/s]"
      ]
     },
     "metadata": {},
     "output_type": "display_data"
    },
    {
     "name": "stdout",
     "output_type": "stream",
     "text": [
      "find rng of :: (d1<=6) | this may take some time...\n"
     ]
    },
    {
     "name": "stderr",
     "output_type": "stream",
     "text": [
      "testing: 100%|██████████| 6/6 [00:00<00:00, 5993.29it/s]\n"
     ]
    },
    {
     "name": "stdout",
     "output_type": "stream",
     "text": [
      "domain of data variables for the log :: {'d5', 'd4', 'd6', 'd3', 'd1', 'd2'}\n",
      "domain of data variables for the process model :: {'d1'}\n"
     ]
    },
    {
     "data": {
      "application/vnd.jupyter.widget-view+json": {
       "model_id": "40d2080cf80f4733b2233eb02bbd55d2",
       "version_major": 2,
       "version_minor": 0
      },
      "text/plain": [
       "aligning log, completed variants ::   0%|          | 0/9 [00:00<?, ?it/s]"
      ]
     },
     "metadata": {},
     "output_type": "display_data"
    },
    {
     "name": "stdout",
     "output_type": "stream",
     "text": [
      "total number of observations :: 3600\n",
      "Computed reasoning-precision :: 0.051\n"
     ]
    },
    {
     "data": {
      "application/vnd.jupyter.widget-view+json": {
       "model_id": "42f8204f2d834934ab4329fa6ddd2025",
       "version_major": 2,
       "version_minor": 0
      },
      "text/plain": [
       "parsing log, completed traces ::   0%|          | 0/1800 [00:00<?, ?it/s]"
      ]
     },
     "metadata": {},
     "output_type": "display_data"
    },
    {
     "name": "stdout",
     "output_type": "stream",
     "text": [
      "find rng of :: (d1>=5) | this may take some time...\n"
     ]
    },
    {
     "name": "stderr",
     "output_type": "stream",
     "text": [
      "testing: 100%|██████████| 6/6 [00:00<00:00, 6003.30it/s]\n"
     ]
    },
    {
     "name": "stdout",
     "output_type": "stream",
     "text": [
      "domain of data variables for the log :: {'d5', 'd4', 'd6', 'd3', 'd1', 'd2'}\n",
      "domain of data variables for the process model :: {'d1'}\n"
     ]
    },
    {
     "data": {
      "application/vnd.jupyter.widget-view+json": {
       "model_id": "5edf3fa0a1cb4964ac84496fcd14abb1",
       "version_major": 2,
       "version_minor": 0
      },
      "text/plain": [
       "aligning log, completed variants ::   0%|          | 0/9 [00:00<?, ?it/s]"
      ]
     },
     "metadata": {},
     "output_type": "display_data"
    },
    {
     "name": "stdout",
     "output_type": "stream",
     "text": [
      "total number of observations :: 3600\n",
      "Computed reasoning-precision :: 0.051\n",
      "\n",
      "first pair measured :: 0.051\n",
      "second pair measured :: 0.051\n",
      "Proposition may hold for precision.\n",
      "------- test two -----------\n"
     ]
    },
    {
     "data": {
      "application/vnd.jupyter.widget-view+json": {
       "model_id": "79df0fb59c7b4a5d98c95a7ba4382b3e",
       "version_major": 2,
       "version_minor": 0
      },
      "text/plain": [
       "parsing log, completed traces ::   0%|          | 0/1800 [00:00<?, ?it/s]"
      ]
     },
     "metadata": {},
     "output_type": "display_data"
    },
    {
     "name": "stdout",
     "output_type": "stream",
     "text": [
      "find rng of :: ((d1>6)&&(d1<9)) | this may take some time...\n"
     ]
    },
    {
     "name": "stderr",
     "output_type": "stream",
     "text": [
      "testing: 100%|██████████| 6/6 [00:00<00:00, 6195.43it/s]\n"
     ]
    },
    {
     "name": "stdout",
     "output_type": "stream",
     "text": [
      "find rng of :: (d1<=6) | this may take some time...\n"
     ]
    },
    {
     "name": "stderr",
     "output_type": "stream",
     "text": [
      "testing: 100%|██████████| 6/6 [00:00<00:00, 6016.21it/s]\n"
     ]
    },
    {
     "name": "stdout",
     "output_type": "stream",
     "text": [
      "domain of data variables for the log :: {'d5', 'd4', 'd6', 'd3', 'd1', 'd2'}\n",
      "domain of data variables for the process model :: {'d1'}\n"
     ]
    },
    {
     "data": {
      "application/vnd.jupyter.widget-view+json": {
       "model_id": "7b4b299571634651a572908f30f91852",
       "version_major": 2,
       "version_minor": 0
      },
      "text/plain": [
       "aligning log, completed variants ::   0%|          | 0/9 [00:00<?, ?it/s]"
      ]
     },
     "metadata": {},
     "output_type": "display_data"
    },
    {
     "name": "stdout",
     "output_type": "stream",
     "text": [
      "total number of observations :: 3600\n",
      "Computed reasoning-precision :: 0.154\n"
     ]
    },
    {
     "data": {
      "application/vnd.jupyter.widget-view+json": {
       "model_id": "efb48b9f24b94103ae31762f632ef201",
       "version_major": 2,
       "version_minor": 0
      },
      "text/plain": [
       "parsing log, completed traces ::   0%|          | 0/1800 [00:00<?, ?it/s]"
      ]
     },
     "metadata": {},
     "output_type": "display_data"
    },
    {
     "name": "stdout",
     "output_type": "stream",
     "text": [
      "find rng of :: (d1>=5) | this may take some time...\n"
     ]
    },
    {
     "name": "stderr",
     "output_type": "stream",
     "text": [
      "testing: 100%|██████████| 6/6 [00:00<00:00, 6014.78it/s]\n"
     ]
    },
    {
     "name": "stdout",
     "output_type": "stream",
     "text": [
      "find rng of :: (d1>=5) | this may take some time...\n"
     ]
    },
    {
     "name": "stderr",
     "output_type": "stream",
     "text": [
      "testing: 100%|██████████| 6/6 [00:00<00:00, 7573.22it/s]\n"
     ]
    },
    {
     "name": "stdout",
     "output_type": "stream",
     "text": [
      "domain of data variables for the log :: {'d5', 'd4', 'd6', 'd3', 'd1', 'd2'}\n",
      "domain of data variables for the process model :: {'d1'}\n"
     ]
    },
    {
     "data": {
      "application/vnd.jupyter.widget-view+json": {
       "model_id": "2b0a6751a7954e719f7ff6c99bbb465d",
       "version_major": 2,
       "version_minor": 0
      },
      "text/plain": [
       "aligning log, completed variants ::   0%|          | 0/9 [00:00<?, ?it/s]"
      ]
     },
     "metadata": {},
     "output_type": "display_data"
    },
    {
     "name": "stdout",
     "output_type": "stream",
     "text": [
      "total number of observations :: 3600\n",
      "Computed reasoning-precision :: 0.103\n",
      "\n",
      "first pair measured :: 0.154\n",
      "second pair measured :: 0.103\n",
      "Proposition may hold for precision.\n",
      "------- test three -----------\n"
     ]
    },
    {
     "data": {
      "application/vnd.jupyter.widget-view+json": {
       "model_id": "75522d1c4cd549a4b832f741f420bb47",
       "version_major": 2,
       "version_minor": 0
      },
      "text/plain": [
       "parsing log, completed traces ::   0%|          | 0/1800 [00:00<?, ?it/s]"
      ]
     },
     "metadata": {},
     "output_type": "display_data"
    },
    {
     "name": "stdout",
     "output_type": "stream",
     "text": [
      "find rng of :: ((d1>6)&&(d1<9)) | this may take some time...\n"
     ]
    },
    {
     "name": "stderr",
     "output_type": "stream",
     "text": [
      "testing: 100%|██████████| 6/6 [00:00<?, ?it/s]\n"
     ]
    },
    {
     "name": "stdout",
     "output_type": "stream",
     "text": [
      "find rng of :: (d1<=6) | this may take some time...\n"
     ]
    },
    {
     "name": "stderr",
     "output_type": "stream",
     "text": [
      "testing: 100%|██████████| 6/6 [00:00<00:00, 6014.78it/s]\n"
     ]
    },
    {
     "name": "stdout",
     "output_type": "stream",
     "text": [
      "domain of data variables for the log :: {'d5', 'd4', 'd6', 'd3', 'd1', 'd2'}\n",
      "domain of data variables for the process model :: {'d1'}\n"
     ]
    },
    {
     "data": {
      "application/vnd.jupyter.widget-view+json": {
       "model_id": "ad29e9884fc644f5b378e6e8cb610afd",
       "version_major": 2,
       "version_minor": 0
      },
      "text/plain": [
       "aligning log, completed variants ::   0%|          | 0/9 [00:00<?, ?it/s]"
      ]
     },
     "metadata": {},
     "output_type": "display_data"
    },
    {
     "name": "stdout",
     "output_type": "stream",
     "text": [
      "total number of observations :: 3600\n",
      "Computed reasoning-precision :: 0.154\n"
     ]
    },
    {
     "data": {
      "application/vnd.jupyter.widget-view+json": {
       "model_id": "fe79dc8980344a5d922a0ca72f4e7168",
       "version_major": 2,
       "version_minor": 0
      },
      "text/plain": [
       "parsing log, completed traces ::   0%|          | 0/1800 [00:00<?, ?it/s]"
      ]
     },
     "metadata": {},
     "output_type": "display_data"
    },
    {
     "name": "stdout",
     "output_type": "stream",
     "text": [
      "find rng of :: (d1>=5) | this may take some time...\n"
     ]
    },
    {
     "name": "stderr",
     "output_type": "stream",
     "text": [
      "testing: 100%|██████████| 6/6 [00:00<?, ?it/s]\n"
     ]
    },
    {
     "name": "stdout",
     "output_type": "stream",
     "text": [
      "find rng of :: ((d1>6)&&(d1<9)) | this may take some time...\n"
     ]
    },
    {
     "name": "stderr",
     "output_type": "stream",
     "text": [
      "testing: 100%|██████████| 6/6 [00:00<00:00, 6193.90it/s]\n"
     ]
    },
    {
     "name": "stdout",
     "output_type": "stream",
     "text": [
      "domain of data variables for the log :: {'d5', 'd4', 'd6', 'd3', 'd1', 'd2'}\n",
      "domain of data variables for the process model :: {'d1'}\n"
     ]
    },
    {
     "data": {
      "application/vnd.jupyter.widget-view+json": {
       "model_id": "f49c339da00641db8e90e8342a4ffb4a",
       "version_major": 2,
       "version_minor": 0
      },
      "text/plain": [
       "aligning log, completed variants ::   0%|          | 0/9 [00:00<?, ?it/s]"
      ]
     },
     "metadata": {},
     "output_type": "display_data"
    },
    {
     "name": "stdout",
     "output_type": "stream",
     "text": [
      "total number of observations :: 3600\n",
      "Computed reasoning-precision :: 0.128\n",
      "\n",
      "first pair measured :: 0.154\n",
      "second pair measured :: 0.128\n",
      "Proposition may hold for precision.\n"
     ]
    }
   ],
   "source": [
    "# test precision\n",
    "measures = []\n",
    "print(\"------- test one -----------\")\n",
    "for log_file,model_file in group_one:\n",
    "    try:\n",
    "        measures.append(reasoning_precision(log_file,model_file))\n",
    "    except Exception as e:\n",
    "        print(f\"Proposition does not hold as error occured :: {e}\")\n",
    "print()\n",
    "print(f\"first pair measured :: {measures[0]:.3f}\")\n",
    "print(f\"second pair measured :: {measures[1]:.3f}\")\n",
    "if (measures[0] >= measures[1]):\n",
    "    print(\"Proposition may hold for precision.\")\n",
    "else:\n",
    "    if (abs(measures[0] - measures[1]) < 0.001):\n",
    "        print(\"Proposition may hold for precision.\")\n",
    "    else:\n",
    "        print(\"Proposition does not hold for precision\")\n",
    "\n",
    "measures = []\n",
    "print(\"------- test two -----------\")\n",
    "for log_file,model_file in group_two:\n",
    "    try:\n",
    "        measures.append(reasoning_precision(log_file,model_file))\n",
    "    except Exception as e:\n",
    "        print(f\"Proposition does not hold as error occured :: {e}\")\n",
    "print()\n",
    "print(f\"first pair measured :: {measures[0]:.3f}\")\n",
    "print(f\"second pair measured :: {measures[1]:.3f}\")\n",
    "if (measures[0] >= measures[1]):\n",
    "    print(\"Proposition may hold for precision.\")\n",
    "else:\n",
    "    if (abs(measures[0] - measures[1]) < 0.001):\n",
    "        print(\"Proposition may hold for precision.\")\n",
    "    else:\n",
    "        print(\"Proposition does not hold for precision\")\n",
    "\n",
    "measures = []\n",
    "print(\"------- test three -----------\")\n",
    "for log_file,model_file in group_three:\n",
    "    try:\n",
    "        measures.append(reasoning_precision(log_file,model_file))\n",
    "    except Exception as e:\n",
    "        print(f\"Proposition does not hold as error occured :: {e}\")\n",
    "print()\n",
    "print(f\"first pair measured :: {measures[0]:.3f}\")\n",
    "print(f\"second pair measured :: {measures[1]:.3f}\")\n",
    "if (measures[0] >= measures[1]):\n",
    "    print(\"Proposition may hold for precision.\")\n",
    "else:\n",
    "    if (abs(measures[0] - measures[1]) < 0.001):\n",
    "        print(\"Proposition may hold for precision.\")\n",
    "    else:\n",
    "        print(\"Proposition does not hold for precision\")"
   ]
  }
 ],
 "metadata": {
  "kernelspec": {
   "display_name": "Python 3.9.7 ('data-aware_conformance-3vUrzXcp')",
   "language": "python",
   "name": "python3"
  },
  "language_info": {
   "codemirror_mode": {
    "name": "ipython",
    "version": 3
   },
   "file_extension": ".py",
   "mimetype": "text/x-python",
   "name": "python",
   "nbconvert_exporter": "python",
   "pygments_lexer": "ipython3",
   "version": "3.9.7"
  },
  "orig_nbformat": 4,
  "vscode": {
   "interpreter": {
    "hash": "914a36232f92683846c1916a2fb1a6778ba3c1b07296c7764f1c1f53f23c321d"
   }
  }
 },
 "nbformat": 4,
 "nbformat_minor": 2
}
